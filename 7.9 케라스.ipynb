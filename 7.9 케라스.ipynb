{
 "cells": [
  {
   "cell_type": "markdown",
   "metadata": {},
   "source": [
    "## 1. 개요\n",
    "\n",
    "    + 파이썬으로 구현된 쉽고 간결한 딥러닝 라이브러리\n",
    "    + 프랑소와 숄레가 2015년 3월에 발표\n",
    "    + 내부적으로는 텐서플로 엔진이 구동되지만 직관적인API로 쉽게 딥러닝\n",
    "    실험을 할 수 있도록 지원\n",
    "    \n",
    "## 2. 주요 특징\n",
    "\n",
    "    + 모듈화 : 독립적인 모듈들을 조합하여 구현\n",
    "    + 최소주의 : 각 모듈을 짧고 간결\n",
    "    + 쉬운 확장성 : 클래스나 함수로 모듈을 쉽게 추가 할 수 있다.\n",
    "    + 파이썬 기반 : 별도의 설정이 필요없다.\n",
    "    \n",
    "## 3.설치\n",
    "\n",
    "    pip uninstall keras\n",
    "    pip install keras==2.3.1\n",
    "    \n",
    "## 4.API\n",
    "\n",
    "    1. 준비\n",
    "        Sequential()\n",
    "        \n",
    "    2. 계층 설정\n",
    "        Dense()\n",
    "        \n",
    "    3. 컴파일\n",
    "        compile()\n",
    "    4. 학습(훈련)\n",
    "        fit()\n",
    "    5. 평가\n",
    "        evaluate()\n",
    "    6. 예측 \n",
    "        predict()"
   ]
  },
  {
   "cell_type": "code",
   "execution_count": 3,
   "metadata": {},
   "outputs": [
    {
     "name": "stderr",
     "output_type": "stream",
     "text": [
      "Using TensorFlow backend.\n"
     ]
    }
   ],
   "source": [
    "\n",
    "\n",
    "import tensorflow as tf\n",
    "import numpy as np\n",
    "import pandas as pd\n",
    "import matplotlib.pylab as plt\n",
    "import matplotlib as mpl\n",
    "import seaborn as sns\n",
    "\n",
    "import matplotlib.font_manager as fm\n",
    "font_name = fm.FontProperties(fname = 'C:\\\\Windows\\\\Fonts\\\\malgun.ttf').get_name()\n",
    "plt.rc('font', family = font_name)\n",
    "\n",
    "mpl.rcParams['axes.unicode_minus'] = False\n",
    "\n",
    "import keras\n",
    "from keras.models import Sequential, load_model\n",
    "from keras.layers.core import Dense\n",
    "from keras.optimizers import RMSprop\n",
    "from keras.utils import np_utils\n",
    "from keras.callbacks import EarlyStopping\n",
    "\n",
    "\n",
    "#CNN\n",
    "from keras.datasets import mnist\n",
    "from keras import layers\n",
    "\n"
   ]
  },
  {
   "cell_type": "code",
   "execution_count": null,
   "metadata": {},
   "outputs": [],
   "source": [
    "print(keras.__version__)"
   ]
  },
  {
   "cell_type": "markdown",
   "metadata": {},
   "source": [
    "# 과거 텐서플로만 사용하여 한 예제"
   ]
  },
  {
   "cell_type": "code",
   "execution_count": null,
   "metadata": {},
   "outputs": [],
   "source": [
    "# 데이터 준비\n",
    "x_train = [1,2,3,4,5]\n",
    "y_train = [2.1,3.1,4.1,5.1,6.1]\n",
    "\n",
    "# 데이터 준비\n",
    "x_train = tf.placeholder(tf.float32, shape = [None])\n",
    "y_train = tf.placeholder(tf.float32, shape = [None])\n",
    "\n",
    "#가설 준비 : WX +b\n",
    "W = tf.Variable(tf.random_normal([1]), dtype = tf.float32)\n",
    "b = tf.Variable(tf.random_normal([1]), dtype = tf.float32)\n",
    "\n",
    "hypot = W*x_train +b\n",
    "\n",
    "#비용함수\n",
    "\n",
    "cost = tf.reduce_mean(tf.square(hypot - y_train))\n",
    "# 최저 비용 학습을 위한 경사하강알고리즘\n",
    "train = tf.train.GradientDescentOptimizer(learning_rate=0.01).minimize(cost)\n",
    "#----------------- 텐서플로우의 그래프 작성 완료\n",
    "\n",
    "\n",
    "sess = tf.Session()\n",
    "sess.run(tf.global_variables_initializer())\n",
    "\n",
    "for step in range(2001):\n",
    "    _, c, w, b1 = sess.run([train, cost, W,b], feed_dict ={x_train:[1,2,3,4,5],\n",
    "                                                      y_train:[2.1,3.1,4.1,5.1,6.1]})\n",
    "    if step%500 ==0:\n",
    "        print(step, c, w, b1)\n",
    "    \n",
    "# Testing\n",
    "print(sess.run(hypot, feed_dict={x_train:[27]}))\n",
    "print(sess.run(hypot, feed_dict={x_train:[2.5,3.7]}))\n",
    "sess.close()\n"
   ]
  },
  {
   "cell_type": "markdown",
   "metadata": {},
   "source": [
    "- Sequential 모데을 레이어를 선형적으로 쌓는다. \n",
    "- .add() 를 통해 레이어를 쌓을수있다., input_dim 인수로 최초의 레이어 입력크기 설정\n",
    "- activation 인수로 활성화 함수 설정\n",
    "model.add(Dense(units=64, activation='relu', input_dim=100))\n",
    "model.add(Dense(units=10, activation='softmax'))\n",
    "- .compile() 학습과정을 조정할수있다. , 옵티마이저까지 조정가능\n",
    "    model.compile(loss='categorical_crossentropy',optimizer='sgd',metrics['accuracy'])\n",
    "### compile 에서 메트릭 : 평가 기준이고 사용자 정의 메트릭을 사용가능하다.\n",
    "### model. predict(np.array([예측할 값])\n",
    "### predict(x, batch_size=None, verbose=0, steps=None, callbacks=None)\n",
    "    - x : Numpy 배열 형태의 인풋 데이터"
   ]
  },
  {
   "cell_type": "code",
   "execution_count": null,
   "metadata": {},
   "outputs": [],
   "source": [
    "# 데이터 준비\n",
    "x_train = [1,2,3,4,5]\n",
    "y_train = [2.1,3.1,4.1,5.1,6.1]\n",
    "\n",
    "#모델 구성하기\n",
    "model = Sequential()\n",
    "model.add(Dense(1, input_shape = (1,)))\n",
    "# model.compile(loss = \"mse\", optimizer=\"rmsprop\", metrics = [\"accuracy\"])\n",
    "# RMSprop 객체를 이용하여 learning rate조정가능\n",
    "model.compile(loss = \"mse\", optimizer=RMSprop(lr=0.01), metrics = [\"accuracy\"])\n",
    "\n",
    "model.summary()\n",
    "\n",
    "model_result=model.fit(x_train, y_train, epochs = 1000 )\n",
    "print(model_result.history[\"loss\"]) #lostt값들쭉 나옴\n",
    "\n",
    "model.predict(x_train)\n",
    "# 예측 어떻게 하는지 \n",
    "model.predict(np.array([27,2.5,3.7]))"
   ]
  },
  {
   "cell_type": "code",
   "execution_count": null,
   "metadata": {},
   "outputs": [],
   "source": [
    "#np.array로 해줘야함\n",
    "X = np.array([[73., 80., 75.], [93., 88., 93.],\n",
    "         [89., 91., 90.], [96., 98., 100.], [73., 66., 70.]])\n",
    "y = np.array([[152.],[185.],[180.],[196.],[142.]])\n",
    "# 출력의 개수 1개 입력의 개수 3\n",
    "model = Sequential([Dense(1, input_shape=(3,))])\n",
    "model.compile(loss=\"mse\", optimizer = RMSprop(lr = 0.01))\n",
    "\n",
    "model.fit(X, y, epochs = 1000, batch_size = 1 )\n",
    "\n",
    "model.predict(X)"
   ]
  },
  {
   "cell_type": "markdown",
   "metadata": {},
   "source": [
    "## 09.txt (파일) :  Age, Weigth, 혈당 등등있는 25x 5 \n",
    "\n",
    "참고 \n",
    "- https://sdc-james.gitbook.io/onebook/4.-and/5.4.-tensorflow/5.4.1.-keras\n",
    "2. 참고\n",
    "    - https://pinkwink.kr/1082?category=580892"
   ]
  },
  {
   "cell_type": "code",
   "execution_count": null,
   "metadata": {},
   "outputs": [],
   "source": [
    "# 혈당 수치 예측\n",
    "# skip_header 로 스킵\n",
    "data = np.genfromtxt(\"data/x09.txt\", skip_header = 36)\n",
    "data"
   ]
  },
  {
   "cell_type": "code",
   "execution_count": null,
   "metadata": {},
   "outputs": [],
   "source": [
    "# 체중이 100 이고 나이가 40일떄의 혈당은?\n",
    "dataframe = pd.DataFrame(data)\n",
    "dataframe"
   ]
  },
  {
   "cell_type": "code",
   "execution_count": null,
   "metadata": {},
   "outputs": [],
   "source": [
    "array = dataframe.values"
   ]
  },
  {
   "cell_type": "code",
   "execution_count": null,
   "metadata": {},
   "outputs": [],
   "source": [
    "X = array[:, 2:4]\n",
    "y = array[:, 4:5]"
   ]
  },
  {
   "cell_type": "code",
   "execution_count": null,
   "metadata": {},
   "outputs": [],
   "source": [
    "#create model\n",
    "model = Sequential([Dense(1, input_shape=(2,))])\n",
    "model.compile(loss=\"mse\", optimizer = RMSprop(lr = 0.01))\n",
    "model.fit(X, y, epochs = 1000, batch_size = 1 )\n",
    "\n",
    "model.predict(X)"
   ]
  },
  {
   "cell_type": "code",
   "execution_count": null,
   "metadata": {},
   "outputs": [],
   "source": [
    "print(\"100Kg, 40세\", model.predict(np.array([100,40]).reshape(1,2)))"
   ]
  },
  {
   "cell_type": "markdown",
   "metadata": {},
   "source": [
    "## 선생님꺼"
   ]
  },
  {
   "cell_type": "code",
   "execution_count": null,
   "metadata": {},
   "outputs": [],
   "source": [
    "# 혈당 수치 예측\n",
    "# skip_header 로 스킵\n",
    "data = np.genfromtxt(\"data/x09.txt\", skip_header = 36)\n",
    "\n",
    "X = data[:, 2:4]\n",
    "y = data[:, 4:5]\n",
    "\n",
    "model = Sequential([Dense(1, input_shape=(2,))])\n",
    "model.compile(loss=\"mse\", optimizer = RMSprop(lr = 0.01))\n",
    "hist = model.fit(X, y, epochs = 400, batch_size = 1 )\n",
    "# loss의 변화를 알고싶다. \n",
    "plt.plot(hist.history[\"loss\"])\n",
    "# np.array([100,40]) 안되는이유 1차원이라서\n",
    "model.predict(np.array([100,40]).reshape(1,2))"
   ]
  },
  {
   "cell_type": "code",
   "execution_count": null,
   "metadata": {},
   "outputs": [],
   "source": [
    "# 보스턴 주택 가격 예측\n",
    "\n",
    "from keras.datasets import boston_housing\n",
    "\n",
    "(X_train, y_train), (X_test, y_test) = boston_housing.load_data()"
   ]
  },
  {
   "cell_type": "code",
   "execution_count": null,
   "metadata": {},
   "outputs": [],
   "source": [
    "print(X_train.shape, X_test.shape)\n",
    "print(y_train[0:10])"
   ]
  },
  {
   "cell_type": "code",
   "execution_count": null,
   "metadata": {},
   "outputs": [],
   "source": [
    "X_train[0:5]\n",
    "# 표준화를 직접 해본 코드 standardization\n",
    "mean = X_train.mean(axis = 0)\n",
    "X_train -= mean\n",
    "std = X_train.std(axis = 0)\n",
    "X_train /= std\n",
    "X_test -= mean\n",
    "X_test /= std\n",
    "\n",
    "X_train[0:5]"
   ]
  },
  {
   "cell_type": "markdown",
   "metadata": {},
   "source": [
    "## 다양한 activation 들이 있음\n",
    "- softmax, elu, relu, sigmoid, linear 등등"
   ]
  },
  {
   "cell_type": "code",
   "execution_count": null,
   "metadata": {},
   "outputs": [],
   "source": [
    "model = Sequential()\n",
    "model.add(Dense(64, input_shape = (X_train.shape[1],), activation =\"relu\"))\n",
    "# 자동적으로 입력개수 만들어준다. 2번째 계층부터 inputshape 할필요없음\n",
    "# 이번에도 출력개수 64개로 하겠다.\n",
    "model.add(Dense(64,activation =\"relu\"))\n",
    "model.add(Dense(1)) #최종 출력개수 1\n",
    "\n",
    "model.summary()\n",
    "# mse 평균 제곱 오차 예측과 타깃 사이의 거리의 제곱\n",
    "# 훈련 모니터링을 위해 새로운 지표인 평균 절대 오차 \n",
    "# Mean Absolute Error 예를들어 0.5이면 평균적으로 500달러 정도 차이\n",
    "\n",
    "model.compile(loss=\"mse\", optimizer = \"rmsprop\", metrics = [\"mae\"])\n",
    "model.fit(X_train, y_train, epochs = 100, batch_size=1)"
   ]
  },
  {
   "cell_type": "code",
   "execution_count": null,
   "metadata": {},
   "outputs": [],
   "source": [
    "# 측정도구 mae \n",
    "mse, mae=model.evaluate(X_test, y_test)\n",
    "print(mse, mae)"
   ]
  },
  {
   "cell_type": "markdown",
   "metadata": {},
   "source": [
    "# OR gate"
   ]
  },
  {
   "cell_type": "code",
   "execution_count": null,
   "metadata": {},
   "outputs": [],
   "source": [
    "# 데이터 준비\n",
    "X = np.array([[0, 0, 0], \n",
    "                   [0, 0, 1], \n",
    "                   [0, 1, 0], \n",
    "                   [0, 1, 1], \n",
    "                   [1, 0, 0],\n",
    "                   [1, 1, 0],\n",
    "                   [1, 0, 1], \n",
    "                   [1, 1, 1]], \n",
    "                  dtype=np.float32)                   \n",
    "y = np.array([[0], [1], [1], [1], [1], [1], [1], [1]], dtype=np.float32)\n",
    "# units 출력의 개수 1 , input_shape 입력의개수\n",
    "model = Sequential([Dense(units =1 , input_shape=(3,), activation=\"sigmoid\")])\n",
    "model.compile(loss = \"binary_crossentropy\", optimizer =\"rmsprop\",\n",
    "              metrics = [\"accuracy\"])\n",
    "model.fit(X,y,epochs=3000)"
   ]
  },
  {
   "cell_type": "code",
   "execution_count": null,
   "metadata": {},
   "outputs": [],
   "source": [
    "model.predict(X)"
   ]
  },
  {
   "cell_type": "markdown",
   "metadata": {},
   "source": [
    "### mnist 손글씨 사례\n",
    "    참고 -\n",
    "    - https://datascienceschool.net/view-notebook/51e147088d474fe1bf32e394394eaea7/\n",
    "\n",
    "    참고 - https://m.blog.naver.com/PostView.nhn?blogId=ksg97031&logNo=221302568510&proxyReferer=https:%2F%2Fwww.google.com%2F\n",
    "    \n",
    "    비슷코드 - \n",
    "    https://hdongle.tistory.com/47"
   ]
  },
  {
   "cell_type": "code",
   "execution_count": 2,
   "metadata": {},
   "outputs": [],
   "source": [
    "from keras.datasets import mnist\n",
    "(X_train, y_train), (X_test, y_test) = mnist.load_data()"
   ]
  },
  {
   "cell_type": "code",
   "execution_count": 3,
   "metadata": {},
   "outputs": [
    {
     "name": "stdout",
     "output_type": "stream",
     "text": [
      "(60000, 28, 28) (10000, 28, 28)\n"
     ]
    }
   ],
   "source": [
    "print(X_train.shape, X_test.shape)"
   ]
  },
  {
   "cell_type": "code",
   "execution_count": 4,
   "metadata": {},
   "outputs": [
    {
     "data": {
      "text/plain": [
       "array([7, 2, 1, 0, 4, 1, 4, 9, 5, 9], dtype=uint8)"
      ]
     },
     "execution_count": 4,
     "metadata": {},
     "output_type": "execute_result"
    }
   ],
   "source": [
    "y_test[0:10]"
   ]
  },
  {
   "cell_type": "code",
   "execution_count": 5,
   "metadata": {},
   "outputs": [],
   "source": [
    "y_train= np_utils.to_categorical(y_train)\n",
    "y_test = np_utils.to_categorical(y_test)"
   ]
  },
  {
   "cell_type": "code",
   "execution_count": 6,
   "metadata": {},
   "outputs": [
    {
     "data": {
      "text/plain": [
       "array([[0., 0., 0., 0., 0., 0., 0., 1., 0., 0.],\n",
       "       [0., 0., 1., 0., 0., 0., 0., 0., 0., 0.],\n",
       "       [0., 1., 0., 0., 0., 0., 0., 0., 0., 0.],\n",
       "       [1., 0., 0., 0., 0., 0., 0., 0., 0., 0.],\n",
       "       [0., 0., 0., 0., 1., 0., 0., 0., 0., 0.],\n",
       "       [0., 1., 0., 0., 0., 0., 0., 0., 0., 0.],\n",
       "       [0., 0., 0., 0., 1., 0., 0., 0., 0., 0.],\n",
       "       [0., 0., 0., 0., 0., 0., 0., 0., 0., 1.],\n",
       "       [0., 0., 0., 0., 0., 1., 0., 0., 0., 0.],\n",
       "       [0., 0., 0., 0., 0., 0., 0., 0., 0., 1.]], dtype=float32)"
      ]
     },
     "execution_count": 6,
     "metadata": {},
     "output_type": "execute_result"
    }
   ],
   "source": [
    "y_test[0:10]"
   ]
  },
  {
   "cell_type": "code",
   "execution_count": 7,
   "metadata": {},
   "outputs": [],
   "source": [
    "# 이미지 데이터 스케일 조정\n",
    "X_train = X_train.reshape(60000, 28*28).astype(\"float32\")/255\n",
    "X_test = X_test.reshape(10000, 28*28).astype(\"float32\")/255"
   ]
  },
  {
   "cell_type": "code",
   "execution_count": 8,
   "metadata": {},
   "outputs": [],
   "source": [
    "# validation 분할\n",
    "X_val = X_train[:12600]\n",
    "X_train = X_train[12600:]\n",
    "y_val = y_train[:12600]\n",
    "y_train = y_train[12600:]\n"
   ]
  },
  {
   "cell_type": "code",
   "execution_count": 9,
   "metadata": {
    "collapsed": true
   },
   "outputs": [
    {
     "name": "stdout",
     "output_type": "stream",
     "text": [
      "WARNING:tensorflow:From C:\\Users\\acorn\\Anaconda3\\lib\\site-packages\\tensorflow_core\\python\\ops\\resource_variable_ops.py:1630: calling BaseResourceVariable.__init__ (from tensorflow.python.ops.resource_variable_ops) with constraint is deprecated and will be removed in a future version.\n",
      "Instructions for updating:\n",
      "If using Keras pass *_constraint arguments to layers.\n",
      "Model: \"sequential_1\"\n",
      "_________________________________________________________________\n",
      "Layer (type)                 Output Shape              Param #   \n",
      "=================================================================\n",
      "dense_1 (Dense)              (None, 64)                50240     \n",
      "_________________________________________________________________\n",
      "dense_2 (Dense)              (None, 10)                650       \n",
      "=================================================================\n",
      "Total params: 50,890\n",
      "Trainable params: 50,890\n",
      "Non-trainable params: 0\n",
      "_________________________________________________________________\n"
     ]
    }
   ],
   "source": [
    "# 모델 구성 \n",
    "model = Sequential()\n",
    "model.add(Dense(units=64, input_shape =(28*28,), activation = \"relu\"))\n",
    "#입력은 자동이라 안써도됨 input_shape = (64,)\n",
    "#relu는 0 보다 작은값은 0으로 반환하고 0보다 큰 값이 나온경우 그값을\n",
    "#\"그대로\" 반환하는 함수이다. max(0, x) \n",
    "#Sigmoid는 0~1 사이값만 다루므로 계속 곱하면 0에 수렵한다.\n",
    "#1보다 작아지지 않게 \n",
    "model.add(Dense(units = 10, activation = \"softmax\"))\n",
    "model.compile(loss = \"categorical_crossentropy\", optimizer=\"SGD\", metrics=[\"accuracy\"])\n",
    "\n",
    "model.summary()"
   ]
  },
  {
   "cell_type": "code",
   "execution_count": 10,
   "metadata": {
    "collapsed": true
   },
   "outputs": [
    {
     "name": "stdout",
     "output_type": "stream",
     "text": [
      "WARNING:tensorflow:From C:\\Users\\acorn\\Anaconda3\\lib\\site-packages\\keras\\backend\\tensorflow_backend.py:422: The name tf.global_variables is deprecated. Please use tf.compat.v1.global_variables instead.\n",
      "\n",
      "Train on 47400 samples, validate on 12600 samples\n",
      "Epoch 1/50\n",
      "47400/47400 [==============================] - 2s 35us/step - loss: 0.7701 - accuracy: 0.8022 - val_loss: 0.4152 - val_accuracy: 0.8889\n",
      "Epoch 2/50\n",
      "47400/47400 [==============================] - 2s 33us/step - loss: 0.3807 - accuracy: 0.8942 - val_loss: 0.3377 - val_accuracy: 0.9075\n",
      "Epoch 3/50\n",
      "47400/47400 [==============================] - 2s 32us/step - loss: 0.3281 - accuracy: 0.9073 - val_loss: 0.3075 - val_accuracy: 0.9136\n",
      "Epoch 4/50\n",
      "47400/47400 [==============================] - 2s 33us/step - loss: 0.2991 - accuracy: 0.9145 - val_loss: 0.2813 - val_accuracy: 0.9215\n",
      "Epoch 5/50\n",
      "47400/47400 [==============================] - 2s 32us/step - loss: 0.2769 - accuracy: 0.9211 - val_loss: 0.2714 - val_accuracy: 0.9240\n",
      "Epoch 6/50\n",
      "47400/47400 [==============================] - 1s 31us/step - loss: 0.2584 - accuracy: 0.9272 - val_loss: 0.2535 - val_accuracy: 0.9281\n",
      "Epoch 7/50\n",
      "47400/47400 [==============================] - 1s 31us/step - loss: 0.2429 - accuracy: 0.9313 - val_loss: 0.2380 - val_accuracy: 0.9346\n",
      "Epoch 8/50\n",
      "47400/47400 [==============================] - 1s 30us/step - loss: 0.2290 - accuracy: 0.9360 - val_loss: 0.2259 - val_accuracy: 0.9369\n",
      "Epoch 9/50\n",
      "47400/47400 [==============================] - 1s 32us/step - loss: 0.2165 - accuracy: 0.9402 - val_loss: 0.2152 - val_accuracy: 0.9397\n",
      "Epoch 10/50\n",
      "47400/47400 [==============================] - 1s 31us/step - loss: 0.2055 - accuracy: 0.9430 - val_loss: 0.2065 - val_accuracy: 0.9410\n",
      "Epoch 11/50\n",
      "47400/47400 [==============================] - 2s 32us/step - loss: 0.1958 - accuracy: 0.9456 - val_loss: 0.1982 - val_accuracy: 0.9437\n",
      "Epoch 12/50\n",
      "47400/47400 [==============================] - 2s 32us/step - loss: 0.1868 - accuracy: 0.9483 - val_loss: 0.1917 - val_accuracy: 0.9433\n",
      "Epoch 13/50\n",
      "47400/47400 [==============================] - 2s 33us/step - loss: 0.1787 - accuracy: 0.9508 - val_loss: 0.1863 - val_accuracy: 0.9460\n",
      "Epoch 14/50\n",
      "47400/47400 [==============================] - 2s 32us/step - loss: 0.1714 - accuracy: 0.9532 - val_loss: 0.1787 - val_accuracy: 0.9479\n",
      "Epoch 15/50\n",
      "47400/47400 [==============================] - 2s 33us/step - loss: 0.1650 - accuracy: 0.9540 - val_loss: 0.1736 - val_accuracy: 0.9497\n",
      "Epoch 16/50\n",
      "47400/47400 [==============================] - 1s 31us/step - loss: 0.1586 - accuracy: 0.9559 - val_loss: 0.1696 - val_accuracy: 0.9508\n",
      "Epoch 17/50\n",
      "47400/47400 [==============================] - 1s 31us/step - loss: 0.1530 - accuracy: 0.9580 - val_loss: 0.1660 - val_accuracy: 0.9518\n",
      "Epoch 18/50\n",
      "47400/47400 [==============================] - 2s 33us/step - loss: 0.1475 - accuracy: 0.9590 - val_loss: 0.1606 - val_accuracy: 0.9539\n",
      "Epoch 19/50\n",
      "47400/47400 [==============================] - 1s 31us/step - loss: 0.1426 - accuracy: 0.9604 - val_loss: 0.1570 - val_accuracy: 0.9545\n",
      "Epoch 20/50\n",
      "47400/47400 [==============================] - 1s 31us/step - loss: 0.1381 - accuracy: 0.9619 - val_loss: 0.1533 - val_accuracy: 0.9552\n",
      "Epoch 21/50\n",
      "47400/47400 [==============================] - 1s 32us/step - loss: 0.1335 - accuracy: 0.9630 - val_loss: 0.1518 - val_accuracy: 0.9556\n",
      "Epoch 22/50\n",
      "47400/47400 [==============================] - 1s 30us/step - loss: 0.1295 - accuracy: 0.9639 - val_loss: 0.1477 - val_accuracy: 0.9574\n",
      "Epoch 23/50\n",
      "47400/47400 [==============================] - 1s 31us/step - loss: 0.1258 - accuracy: 0.9651 - val_loss: 0.1446 - val_accuracy: 0.9578\n",
      "Epoch 24/50\n",
      "47400/47400 [==============================] - 1s 31us/step - loss: 0.1223 - accuracy: 0.9659 - val_loss: 0.1418 - val_accuracy: 0.9594\n",
      "Epoch 25/50\n",
      "47400/47400 [==============================] - 1s 30us/step - loss: 0.1188 - accuracy: 0.9671 - val_loss: 0.1396 - val_accuracy: 0.9593\n",
      "Epoch 26/50\n",
      "47400/47400 [==============================] - 2s 32us/step - loss: 0.1155 - accuracy: 0.9682 - val_loss: 0.1380 - val_accuracy: 0.9598\n",
      "Epoch 27/50\n",
      "47400/47400 [==============================] - 2s 32us/step - loss: 0.1126 - accuracy: 0.9696 - val_loss: 0.1362 - val_accuracy: 0.9597\n",
      "Epoch 28/50\n",
      "47400/47400 [==============================] - 1s 31us/step - loss: 0.1097 - accuracy: 0.9699 - val_loss: 0.1352 - val_accuracy: 0.9601\n",
      "Epoch 29/50\n",
      "47400/47400 [==============================] - 2s 32us/step - loss: 0.1071 - accuracy: 0.9711 - val_loss: 0.1322 - val_accuracy: 0.9609\n",
      "Epoch 30/50\n",
      "47400/47400 [==============================] - 2s 32us/step - loss: 0.1045 - accuracy: 0.9714 - val_loss: 0.1303 - val_accuracy: 0.9609\n",
      "Epoch 31/50\n",
      "47400/47400 [==============================] - 2s 32us/step - loss: 0.1020 - accuracy: 0.9722 - val_loss: 0.1298 - val_accuracy: 0.9621\n",
      "Epoch 32/50\n",
      "47400/47400 [==============================] - 2s 33us/step - loss: 0.0994 - accuracy: 0.9731 - val_loss: 0.1266 - val_accuracy: 0.9637\n",
      "Epoch 33/50\n",
      "47400/47400 [==============================] - 1s 32us/step - loss: 0.0973 - accuracy: 0.9737 - val_loss: 0.1262 - val_accuracy: 0.9629\n",
      "Epoch 34/50\n",
      "47400/47400 [==============================] - 2s 33us/step - loss: 0.0950 - accuracy: 0.9743 - val_loss: 0.1244 - val_accuracy: 0.9638\n",
      "Epoch 35/50\n",
      "47400/47400 [==============================] - 2s 32us/step - loss: 0.0931 - accuracy: 0.9750 - val_loss: 0.1247 - val_accuracy: 0.9630\n",
      "Epoch 36/50\n",
      "47400/47400 [==============================] - 2s 32us/step - loss: 0.0909 - accuracy: 0.9758 - val_loss: 0.1244 - val_accuracy: 0.9640\n",
      "Epoch 37/50\n",
      "47400/47400 [==============================] - 2s 32us/step - loss: 0.0890 - accuracy: 0.9761 - val_loss: 0.1203 - val_accuracy: 0.9650\n",
      "Epoch 38/50\n",
      "47400/47400 [==============================] - 1s 31us/step - loss: 0.0872 - accuracy: 0.9767 - val_loss: 0.1192 - val_accuracy: 0.9648\n",
      "Epoch 39/50\n",
      "47400/47400 [==============================] - 2s 33us/step - loss: 0.0854 - accuracy: 0.9772 - val_loss: 0.1195 - val_accuracy: 0.9653\n",
      "Epoch 40/50\n",
      "47400/47400 [==============================] - 2s 32us/step - loss: 0.0837 - accuracy: 0.9784 - val_loss: 0.1194 - val_accuracy: 0.9645\n",
      "Epoch 41/50\n",
      "47400/47400 [==============================] - 2s 32us/step - loss: 0.0822 - accuracy: 0.9784 - val_loss: 0.1172 - val_accuracy: 0.9657\n",
      "Epoch 42/50\n",
      "47400/47400 [==============================] - 2s 33us/step - loss: 0.0804 - accuracy: 0.9785 - val_loss: 0.1169 - val_accuracy: 0.9663\n",
      "Epoch 43/50\n",
      "47400/47400 [==============================] - 2s 32us/step - loss: 0.0789 - accuracy: 0.9796 - val_loss: 0.1183 - val_accuracy: 0.9641\n",
      "Epoch 44/50\n",
      "47400/47400 [==============================] - 1s 32us/step - loss: 0.0775 - accuracy: 0.9796 - val_loss: 0.1137 - val_accuracy: 0.9663\n",
      "Epoch 45/50\n",
      "47400/47400 [==============================] - 1s 31us/step - loss: 0.0758 - accuracy: 0.9803 - val_loss: 0.1136 - val_accuracy: 0.9671\n",
      "Epoch 46/50\n",
      "47400/47400 [==============================] - 2s 32us/step - loss: 0.0744 - accuracy: 0.9807 - val_loss: 0.1115 - val_accuracy: 0.9682\n",
      "Epoch 47/50\n",
      "47400/47400 [==============================] - 2s 33us/step - loss: 0.0732 - accuracy: 0.9807 - val_loss: 0.1115 - val_accuracy: 0.9677\n",
      "Epoch 48/50\n",
      "47400/47400 [==============================] - 2s 33us/step - loss: 0.0719 - accuracy: 0.9814 - val_loss: 0.1094 - val_accuracy: 0.9680\n",
      "Epoch 49/50\n",
      "47400/47400 [==============================] - 2s 33us/step - loss: 0.0705 - accuracy: 0.9818 - val_loss: 0.1111 - val_accuracy: 0.9675\n",
      "Epoch 50/50\n",
      "47400/47400 [==============================] - 2s 32us/step - loss: 0.0691 - accuracy: 0.9818 - val_loss: 0.1081 - val_accuracy: 0.9684\n"
     ]
    },
    {
     "data": {
      "text/plain": [
       "<keras.callbacks.callbacks.History at 0x16780055d48>"
      ]
     },
     "execution_count": 10,
     "metadata": {},
     "output_type": "execute_result"
    }
   ],
   "source": [
    "model.fit(X_train, y_train, epochs = 50, batch_size = 32, validation_data = (X_val, y_val))"
   ]
  },
  {
   "cell_type": "code",
   "execution_count": 11,
   "metadata": {},
   "outputs": [
    {
     "name": "stdout",
     "output_type": "stream",
     "text": [
      "10000/10000 [==============================] - 0s 16us/step\n",
      "[0.09721958452332764, 0.9713000059127808]\n"
     ]
    }
   ],
   "source": [
    "result = model.evaluate(X_test, y_test, batch_size=32)\n",
    "print(result)"
   ]
  },
  {
   "cell_type": "code",
   "execution_count": 12,
   "metadata": {},
   "outputs": [
    {
     "data": {
      "text/plain": [
       "array([9412,  537, 5699, 4307,  919, 1372, 7566, 2583, 4441, 3239])"
      ]
     },
     "execution_count": 12,
     "metadata": {},
     "output_type": "execute_result"
    }
   ],
   "source": [
    "np.random.seed(7)\n",
    "\n",
    "xhat_idx = np.random.choice(X_test.shape[0], 10)\n",
    "xhat_idx"
   ]
  },
  {
   "cell_type": "code",
   "execution_count": 13,
   "metadata": {},
   "outputs": [
    {
     "data": {
      "text/plain": [
       "array([[0., 0., 0., ..., 0., 0., 0.],\n",
       "       [0., 0., 0., ..., 0., 0., 0.],\n",
       "       [0., 0., 0., ..., 0., 0., 0.],\n",
       "       ...,\n",
       "       [0., 0., 0., ..., 0., 0., 0.],\n",
       "       [0., 0., 0., ..., 0., 0., 0.],\n",
       "       [0., 0., 0., ..., 0., 0., 0.]], dtype=float32)"
      ]
     },
     "execution_count": 13,
     "metadata": {},
     "output_type": "execute_result"
    }
   ],
   "source": [
    "# x hat 수학기호에서 x위에 꺽세 표시하는 수학기호 따서 변수이름설정\n",
    "xhat = X_test[xhat_idx]\n",
    "xhat"
   ]
  },
  {
   "cell_type": "code",
   "execution_count": 14,
   "metadata": {},
   "outputs": [
    {
     "data": {
      "text/plain": [
       "array([4, 1, 1, 5, 2, 2, 0, 3, 6, 2], dtype=int64)"
      ]
     },
     "execution_count": 14,
     "metadata": {},
     "output_type": "execute_result"
    }
   ],
   "source": [
    "yhat = model.predict_classes(xhat)\n",
    "yhat"
   ]
  },
  {
   "cell_type": "code",
   "execution_count": 15,
   "metadata": {},
   "outputs": [
    {
     "name": "stdout",
     "output_type": "stream",
     "text": [
      "True :  4 , Predict :  4\n",
      "True :  1 , Predict :  1\n",
      "True :  1 , Predict :  1\n",
      "True :  5 , Predict :  5\n",
      "True :  2 , Predict :  2\n",
      "True :  2 , Predict :  2\n",
      "True :  0 , Predict :  0\n",
      "True :  3 , Predict :  3\n",
      "True :  6 , Predict :  6\n",
      "True :  2 , Predict :  2\n"
     ]
    }
   ],
   "source": [
    "for i in range(10):\n",
    "    print(\"True : \", np.argmax(y_test[xhat_idx[i]]), \", Predict : \", yhat[i])"
   ]
  },
  {
   "cell_type": "markdown",
   "metadata": {},
   "source": [
    "# 텐서보드 설정\n",
    "## 텐서플로우가 제공하는 시각화 도구\n",
    "    - 동적그래프나 모델 내 다양한 레이어에 대한 활성화 히스토그램을 시각화\n",
    "    -log_dir: TensorBoard가 구문 분석할 로그 파일을 저장할 위치 경로.\n",
    "    -write_graph: TensorBoard에서 그래프를 시각화할지 여부\n",
    "    -write_images: TensorBoard에서 이미지로 시각화할 모델 가중치를 작성할지 여부."
   ]
  },
  {
   "cell_type": "code",
   "execution_count": 22,
   "metadata": {},
   "outputs": [
    {
     "name": "stdout",
     "output_type": "stream",
     "text": [
      "Train on 47400 samples, validate on 12600 samples\n",
      "Epoch 1/50\n",
      "47400/47400 [==============================] - 2s 34us/step - loss: 0.7235 - accuracy: 0.8099 - val_loss: 0.4036 - val_accuracy: 0.8921\n",
      "Epoch 2/50\n",
      "47400/47400 [==============================] - 2s 37us/step - loss: 0.3662 - accuracy: 0.8978 - val_loss: 0.3218 - val_accuracy: 0.9103\n",
      "Epoch 3/50\n",
      "47400/47400 [==============================] - 2s 37us/step - loss: 0.3122 - accuracy: 0.9114 - val_loss: 0.2879 - val_accuracy: 0.9199\n",
      "Epoch 4/50\n",
      "47400/47400 [==============================] - 2s 34us/step - loss: 0.2815 - accuracy: 0.9193 - val_loss: 0.2681 - val_accuracy: 0.9242\n",
      "Epoch 5/50\n",
      "47400/47400 [==============================] - 2s 38us/step - loss: 0.2595 - accuracy: 0.9260 - val_loss: 0.2488 - val_accuracy: 0.9294\n",
      "Epoch 6/50\n",
      "47400/47400 [==============================] - 2s 37us/step - loss: 0.2418 - accuracy: 0.9315 - val_loss: 0.2338 - val_accuracy: 0.9340\n",
      "Epoch 7/50\n",
      "47400/47400 [==============================] - 2s 36us/step - loss: 0.2264 - accuracy: 0.9359 - val_loss: 0.2219 - val_accuracy: 0.9368\n",
      "Epoch 8/50\n",
      "47400/47400 [==============================] - 2s 37us/step - loss: 0.2133 - accuracy: 0.9399 - val_loss: 0.2107 - val_accuracy: 0.9397\n",
      "Epoch 9/50\n",
      "47400/47400 [==============================] - 2s 36us/step - loss: 0.2020 - accuracy: 0.9427 - val_loss: 0.2021 - val_accuracy: 0.9419\n",
      "Epoch 10/50\n",
      "47400/47400 [==============================] - 2s 36us/step - loss: 0.1920 - accuracy: 0.9460 - val_loss: 0.1934 - val_accuracy: 0.9445\n",
      "Epoch 11/50\n",
      "47400/47400 [==============================] - 2s 36us/step - loss: 0.1831 - accuracy: 0.9483 - val_loss: 0.1864 - val_accuracy: 0.9456\n",
      "Epoch 12/50\n",
      "47400/47400 [==============================] - 2s 36us/step - loss: 0.1749 - accuracy: 0.9507 - val_loss: 0.1803 - val_accuracy: 0.9479\n",
      "Epoch 13/50\n",
      "47400/47400 [==============================] - 2s 36us/step - loss: 0.1677 - accuracy: 0.9528 - val_loss: 0.1739 - val_accuracy: 0.9490\n",
      "Epoch 14/50\n",
      "47400/47400 [==============================] - 2s 36us/step - loss: 0.1608 - accuracy: 0.9546 - val_loss: 0.1689 - val_accuracy: 0.9509\n",
      "Epoch 15/50\n",
      "47400/47400 [==============================] - 2s 37us/step - loss: 0.1547 - accuracy: 0.9560 - val_loss: 0.1646 - val_accuracy: 0.9521\n",
      "Epoch 16/50\n",
      "47400/47400 [==============================] - 2s 36us/step - loss: 0.1488 - accuracy: 0.9577 - val_loss: 0.1605 - val_accuracy: 0.9535\n",
      "Epoch 17/50\n",
      "47400/47400 [==============================] - 2s 37us/step - loss: 0.1436 - accuracy: 0.9597 - val_loss: 0.1555 - val_accuracy: 0.9537\n",
      "Epoch 18/50\n",
      "47400/47400 [==============================] - 2s 36us/step - loss: 0.1388 - accuracy: 0.9609 - val_loss: 0.1523 - val_accuracy: 0.9559\n",
      "Epoch 19/50\n",
      "47400/47400 [==============================] - 2s 37us/step - loss: 0.1341 - accuracy: 0.9622 - val_loss: 0.1489 - val_accuracy: 0.9563\n",
      "Epoch 20/50\n",
      "47400/47400 [==============================] - 2s 36us/step - loss: 0.1300 - accuracy: 0.9630 - val_loss: 0.1443 - val_accuracy: 0.9581\n",
      "Epoch 21/50\n",
      "47400/47400 [==============================] - 2s 37us/step - loss: 0.1260 - accuracy: 0.9643 - val_loss: 0.1413 - val_accuracy: 0.9587\n",
      "Epoch 22/50\n",
      "47400/47400 [==============================] - 2s 36us/step - loss: 0.1221 - accuracy: 0.9653 - val_loss: 0.1393 - val_accuracy: 0.9590\n",
      "Epoch 23/50\n",
      "47400/47400 [==============================] - 2s 37us/step - loss: 0.1184 - accuracy: 0.9666 - val_loss: 0.1372 - val_accuracy: 0.9604\n",
      "Epoch 24/50\n",
      "47400/47400 [==============================] - 2s 36us/step - loss: 0.1150 - accuracy: 0.9681 - val_loss: 0.1349 - val_accuracy: 0.9609\n",
      "Epoch 25/50\n",
      "47400/47400 [==============================] - 2s 36us/step - loss: 0.1120 - accuracy: 0.9687 - val_loss: 0.1324 - val_accuracy: 0.9610\n",
      "Epoch 26/50\n",
      "47400/47400 [==============================] - 2s 33us/step - loss: 0.1089 - accuracy: 0.9695 - val_loss: 0.1311 - val_accuracy: 0.9619\n",
      "Epoch 27/50\n",
      "47400/47400 [==============================] - 2s 36us/step - loss: 0.1061 - accuracy: 0.9702 - val_loss: 0.1283 - val_accuracy: 0.9637\n",
      "Epoch 28/50\n",
      "47400/47400 [==============================] - 2s 37us/step - loss: 0.1034 - accuracy: 0.9708 - val_loss: 0.1273 - val_accuracy: 0.9637\n",
      "Epoch 29/50\n",
      "47400/47400 [==============================] - 2s 36us/step - loss: 0.1009 - accuracy: 0.9715 - val_loss: 0.1242 - val_accuracy: 0.9640\n",
      "Epoch 30/50\n",
      "47400/47400 [==============================] - 2s 36us/step - loss: 0.0985 - accuracy: 0.9728 - val_loss: 0.1236 - val_accuracy: 0.9649\n",
      "Epoch 31/50\n",
      "47400/47400 [==============================] - 2s 36us/step - loss: 0.0961 - accuracy: 0.9732 - val_loss: 0.1214 - val_accuracy: 0.9659\n",
      "Epoch 32/50\n",
      "47400/47400 [==============================] - 2s 37us/step - loss: 0.0938 - accuracy: 0.9736 - val_loss: 0.1198 - val_accuracy: 0.9648\n",
      "Epoch 33/50\n",
      "47400/47400 [==============================] - 2s 36us/step - loss: 0.0917 - accuracy: 0.9747 - val_loss: 0.1196 - val_accuracy: 0.9644\n",
      "Epoch 34/50\n",
      "47400/47400 [==============================] - 2s 36us/step - loss: 0.0896 - accuracy: 0.9747 - val_loss: 0.1175 - val_accuracy: 0.9660\n",
      "Epoch 35/50\n",
      "47400/47400 [==============================] - 2s 33us/step - loss: 0.0878 - accuracy: 0.9756 - val_loss: 0.1154 - val_accuracy: 0.9663\n",
      "Epoch 36/50\n",
      "47400/47400 [==============================] - 2s 33us/step - loss: 0.0858 - accuracy: 0.9762 - val_loss: 0.1143 - val_accuracy: 0.9672\n",
      "Epoch 37/50\n",
      "47400/47400 [==============================] - 2s 37us/step - loss: 0.0839 - accuracy: 0.9769 - val_loss: 0.1136 - val_accuracy: 0.9677\n",
      "Epoch 38/50\n",
      "47400/47400 [==============================] - 2s 32us/step - loss: 0.0822 - accuracy: 0.9768 - val_loss: 0.1129 - val_accuracy: 0.9675\n",
      "Epoch 39/50\n",
      "47400/47400 [==============================] - 2s 36us/step - loss: 0.0805 - accuracy: 0.9775 - val_loss: 0.1127 - val_accuracy: 0.9668\n",
      "Epoch 40/50\n",
      "47400/47400 [==============================] - 2s 36us/step - loss: 0.0789 - accuracy: 0.9780 - val_loss: 0.1102 - val_accuracy: 0.9672\n",
      "Epoch 41/50\n",
      "47400/47400 [==============================] - 2s 33us/step - loss: 0.0773 - accuracy: 0.9784 - val_loss: 0.1107 - val_accuracy: 0.9683\n"
     ]
    },
    {
     "data": {
      "text/plain": [
       "<keras.callbacks.callbacks.History at 0x16782bc7c08>"
      ]
     },
     "execution_count": 22,
     "metadata": {},
     "output_type": "execute_result"
    }
   ],
   "source": [
    "from keras.datasets import mnist\n",
    "(X_train, y_train), (X_test, y_test) = mnist.load_data()\n",
    "\n",
    "y_train= np_utils.to_categorical(y_train)\n",
    "y_test = np_utils.to_categorical(y_test)\n",
    "\n",
    "# 이미지 데이터 스케일 조정\n",
    "X_train = X_train.reshape(60000, 28*28).astype(\"float32\")/255\n",
    "X_test = X_test.reshape(10000, 28*28).astype(\"float32\")/255\n",
    "# validation 분할\n",
    "X_val = X_train[:12600]\n",
    "X_train = X_train[12600:]\n",
    "y_val = y_train[:12600]\n",
    "y_train = y_train[12600:]\n",
    "\n",
    "model = Sequential()\n",
    "model.add(Dense(units=64, input_shape =(28*28,), activation = \"relu\"))\n",
    "model.add(Dense(units = 10, activation = \"softmax\"))\n",
    "model.compile(loss = \"categorical_crossentropy\", optimizer=\"SGD\", metrics=[\"accuracy\"])\n",
    "\n",
    "#텐서보드 설정 \n",
    "tf_hist=keras.callbacks.TensorBoard(log_dir=\"./graph\", write_graph=True,\n",
    "                           write_images=True)\n",
    "#이거 ai폴더 , graph 폴더 있는곳까지 가서 실행해야함\n",
    "#텐서보드 설정: tensorboard --logdir=graph\n",
    "#localhost:6006 으로 접속\n",
    "\n",
    "#조기 종료 설정\n",
    "early = EarlyStopping()\n",
    "\n",
    "\n",
    "model.fit(X_train, y_train, epochs = 50, batch_size = 32,\n",
    "          validation_data = (X_val, y_val),callbacks = [tf_hist, early])\n"
   ]
  },
  {
   "cell_type": "code",
   "execution_count": 19,
   "metadata": {},
   "outputs": [],
   "source": [
    "# 모델저장\n",
    "model.save(\"data/mnist_model.h5\")"
   ]
  },
  {
   "cell_type": "markdown",
   "metadata": {},
   "source": [
    "# 케라스 모델 객체\n",
    "# from keras.models import Sequential, load_model 에서 load_model 이용\n",
    "\n",
    "# 모델 재사용"
   ]
  },
  {
   "cell_type": "code",
   "execution_count": 20,
   "metadata": {},
   "outputs": [],
   "source": [
    "model2 = load_model(\"data/mnist_model.h5\")"
   ]
  },
  {
   "cell_type": "code",
   "execution_count": 21,
   "metadata": {},
   "outputs": [
    {
     "name": "stdout",
     "output_type": "stream",
     "text": [
      "True :  5 , Predict :  5\n",
      "True :  8 , Predict :  4\n",
      "True :  9 , Predict :  9\n",
      "True :  9 , Predict :  9\n",
      "True :  9 , Predict :  9\n",
      "True :  9 , Predict :  9\n",
      "True :  0 , Predict :  0\n",
      "True :  9 , Predict :  9\n",
      "True :  5 , Predict :  5\n",
      "True :  8 , Predict :  8\n"
     ]
    }
   ],
   "source": [
    "(X_train, y_train), (X_test, y_test) = mnist.load_data()\n",
    "X_test = X_test.reshape(10000, 28*28).astype(\"float32\")/255\n",
    "y_test = np_utils.to_categorical(y_test)\n",
    "\n",
    "xhat_idx = np.random.choice(X_test.shape[0], 10)\n",
    "xhat = X_test[xhat_idx]\n",
    "\n",
    "# 모델 2라고 해줘야함\n",
    "# yhat = model.predict_classes(xhat)\n",
    "yhat = model2.predict_classes(xhat)\n",
    "\n",
    "for i in range(10):\n",
    "    print(\"True : \", np.argmax(y_test[xhat_idx[i]]), \", Predict : \", yhat[i])"
   ]
  },
  {
   "cell_type": "markdown",
   "metadata": {},
   "source": [
    "# from keras.callbacks import EarlyStopping\n",
    "\n",
    "# 조기 종료 : EarlyStopping(monitor = \"val_loss\", min_deta =0, patience =10)\n",
    "\n",
    "    1) monitor : 관찰하고자 하는 항목, 주록 val_loss나 vall_acc 주로 사용\n",
    "    2) min_delta : 개선되고 있다고 판단하기 위한 최소 변화량, 보통 0 지정\n",
    "    3) patience : 지정된 값까지 기다렸다가 종료"
   ]
  },
  {
   "cell_type": "markdown",
   "metadata": {},
   "source": [
    "# DNN 모듈화\n"
   ]
  },
  {
   "cell_type": "code",
   "execution_count": 25,
   "metadata": {},
   "outputs": [],
   "source": [
    "def make_model(input_number, output_number, hidden_layer):\n",
    "    model = Sequential()\n",
    "    \n",
    "    model.add(Dense(hidden_layer[0], input_shape = (input_number,),\n",
    "                   activation = \"relu\"))\n",
    "    model.add(Dense(hidden_layer[1],activation = \"relu\"))\n",
    "    model.add(Dense(hidden_layer[2],activation = \"relu\"))\n",
    "    model.add(Dense(hidden_layer[3],activation = \"relu\"))\n",
    "    \n",
    "    # 성능향상을 위해 drop out 사용\n",
    "    model.add(keras.layers.core.Dropout(0.2))\n",
    "    \n",
    "    model.add(Dense(output_number, activation=\"softmax\"))\n",
    "    model.compile(loss =\"categorical_crossentropy\", optimizer = \"adam\",\n",
    "                 metrics = [\"accuracy\"])\n",
    "    return model"
   ]
  },
  {
   "cell_type": "code",
   "execution_count": 26,
   "metadata": {},
   "outputs": [
    {
     "name": "stdout",
     "output_type": "stream",
     "text": [
      "Epoch 1/5\n",
      "60000/60000 [==============================] - 1s 12us/step - loss: 0.0819 - accuracy: 0.9774\n",
      "Epoch 2/5\n",
      "60000/60000 [==============================] - 1s 12us/step - loss: 0.0808 - accuracy: 0.9776\n",
      "Epoch 3/5\n",
      "60000/60000 [==============================] - 1s 12us/step - loss: 0.0800 - accuracy: 0.9778\n",
      "Epoch 4/5\n",
      "60000/60000 [==============================] - 1s 11us/step - loss: 0.0793 - accuracy: 0.9780\n",
      "Epoch 5/5\n",
      "60000/60000 [==============================] - 1s 12us/step - loss: 0.0786 - accuracy: 0.9782\n"
     ]
    },
    {
     "data": {
      "text/plain": [
       "<keras.callbacks.callbacks.History at 0x16788d17588>"
      ]
     },
     "execution_count": 26,
     "metadata": {},
     "output_type": "execute_result"
    }
   ],
   "source": [
    "(X_train, y_train), (X_test, y_test) = mnist.load_data()\n",
    "# one hot 인코딩\n",
    "y_train= np_utils.to_categorical(y_train)\n",
    "y_test = np_utils.to_categorical(y_test)\n",
    "#이미지 데이터 스케일 조정\n",
    "X_train = X_train.reshape(60000, 28*28).astype(\"float32\")/255\n",
    "X_test = X_test.reshape(10000, 28*28).astype(\"float32\")/255\n",
    "\n",
    "input_number = 784\n",
    "output_number = 10\n",
    "hidden_layer = [255, 255, 255, 255]\n",
    "\n",
    "make_model(input_number, output_number, hidden_layer)\n",
    "model.fit(X_train, y_train, epochs = 5, batch_size = 100)"
   ]
  },
  {
   "cell_type": "code",
   "execution_count": 5,
   "metadata": {},
   "outputs": [
    {
     "data": {
      "text/html": [
       "<div>\n",
       "<style scoped>\n",
       "    .dataframe tbody tr th:only-of-type {\n",
       "        vertical-align: middle;\n",
       "    }\n",
       "\n",
       "    .dataframe tbody tr th {\n",
       "        vertical-align: top;\n",
       "    }\n",
       "\n",
       "    .dataframe thead th {\n",
       "        text-align: right;\n",
       "    }\n",
       "</style>\n",
       "<table border=\"1\" class=\"dataframe\">\n",
       "  <thead>\n",
       "    <tr style=\"text-align: right;\">\n",
       "      <th></th>\n",
       "      <th>sepal_length</th>\n",
       "      <th>sepal_width</th>\n",
       "      <th>petal_length</th>\n",
       "      <th>petal_width</th>\n",
       "      <th>species</th>\n",
       "    </tr>\n",
       "  </thead>\n",
       "  <tbody>\n",
       "    <tr>\n",
       "      <th>0</th>\n",
       "      <td>5.1</td>\n",
       "      <td>3.5</td>\n",
       "      <td>1.4</td>\n",
       "      <td>0.2</td>\n",
       "      <td>setosa</td>\n",
       "    </tr>\n",
       "    <tr>\n",
       "      <th>1</th>\n",
       "      <td>4.9</td>\n",
       "      <td>3.0</td>\n",
       "      <td>1.4</td>\n",
       "      <td>0.2</td>\n",
       "      <td>setosa</td>\n",
       "    </tr>\n",
       "    <tr>\n",
       "      <th>2</th>\n",
       "      <td>4.7</td>\n",
       "      <td>3.2</td>\n",
       "      <td>1.3</td>\n",
       "      <td>0.2</td>\n",
       "      <td>setosa</td>\n",
       "    </tr>\n",
       "    <tr>\n",
       "      <th>3</th>\n",
       "      <td>4.6</td>\n",
       "      <td>3.1</td>\n",
       "      <td>1.5</td>\n",
       "      <td>0.2</td>\n",
       "      <td>setosa</td>\n",
       "    </tr>\n",
       "    <tr>\n",
       "      <th>4</th>\n",
       "      <td>5.0</td>\n",
       "      <td>3.6</td>\n",
       "      <td>1.4</td>\n",
       "      <td>0.2</td>\n",
       "      <td>setosa</td>\n",
       "    </tr>\n",
       "    <tr>\n",
       "      <th>...</th>\n",
       "      <td>...</td>\n",
       "      <td>...</td>\n",
       "      <td>...</td>\n",
       "      <td>...</td>\n",
       "      <td>...</td>\n",
       "    </tr>\n",
       "    <tr>\n",
       "      <th>145</th>\n",
       "      <td>6.7</td>\n",
       "      <td>3.0</td>\n",
       "      <td>5.2</td>\n",
       "      <td>2.3</td>\n",
       "      <td>virginica</td>\n",
       "    </tr>\n",
       "    <tr>\n",
       "      <th>146</th>\n",
       "      <td>6.3</td>\n",
       "      <td>2.5</td>\n",
       "      <td>5.0</td>\n",
       "      <td>1.9</td>\n",
       "      <td>virginica</td>\n",
       "    </tr>\n",
       "    <tr>\n",
       "      <th>147</th>\n",
       "      <td>6.5</td>\n",
       "      <td>3.0</td>\n",
       "      <td>5.2</td>\n",
       "      <td>2.0</td>\n",
       "      <td>virginica</td>\n",
       "    </tr>\n",
       "    <tr>\n",
       "      <th>148</th>\n",
       "      <td>6.2</td>\n",
       "      <td>3.4</td>\n",
       "      <td>5.4</td>\n",
       "      <td>2.3</td>\n",
       "      <td>virginica</td>\n",
       "    </tr>\n",
       "    <tr>\n",
       "      <th>149</th>\n",
       "      <td>5.9</td>\n",
       "      <td>3.0</td>\n",
       "      <td>5.1</td>\n",
       "      <td>1.8</td>\n",
       "      <td>virginica</td>\n",
       "    </tr>\n",
       "  </tbody>\n",
       "</table>\n",
       "<p>150 rows × 5 columns</p>\n",
       "</div>"
      ],
      "text/plain": [
       "     sepal_length  sepal_width  petal_length  petal_width    species\n",
       "0             5.1          3.5           1.4          0.2     setosa\n",
       "1             4.9          3.0           1.4          0.2     setosa\n",
       "2             4.7          3.2           1.3          0.2     setosa\n",
       "3             4.6          3.1           1.5          0.2     setosa\n",
       "4             5.0          3.6           1.4          0.2     setosa\n",
       "..            ...          ...           ...          ...        ...\n",
       "145           6.7          3.0           5.2          2.3  virginica\n",
       "146           6.3          2.5           5.0          1.9  virginica\n",
       "147           6.5          3.0           5.2          2.0  virginica\n",
       "148           6.2          3.4           5.4          2.3  virginica\n",
       "149           5.9          3.0           5.1          1.8  virginica\n",
       "\n",
       "[150 rows x 5 columns]"
      ]
     },
     "execution_count": 5,
     "metadata": {},
     "output_type": "execute_result"
    }
   ],
   "source": [
    "# iris로 성능측정\n",
    "iris = sns.load_dataset(\"iris\")\n",
    "iris"
   ]
  },
  {
   "cell_type": "markdown",
   "metadata": {},
   "source": [
    "### 또까먹냐? iloc [ 행 a:b , 열 a:b] "
   ]
  },
  {
   "cell_type": "code",
   "execution_count": 7,
   "metadata": {},
   "outputs": [
    {
     "data": {
      "text/plain": [
       "array(['setosa', 'setosa', 'setosa', 'setosa', 'setosa', 'setosa',\n",
       "       'setosa', 'setosa', 'setosa', 'setosa', 'setosa', 'setosa',\n",
       "       'setosa', 'setosa', 'setosa', 'setosa', 'setosa', 'setosa',\n",
       "       'setosa', 'setosa', 'setosa', 'setosa', 'setosa', 'setosa',\n",
       "       'setosa', 'setosa', 'setosa', 'setosa', 'setosa', 'setosa',\n",
       "       'setosa', 'setosa', 'setosa', 'setosa', 'setosa', 'setosa',\n",
       "       'setosa', 'setosa', 'setosa', 'setosa', 'setosa', 'setosa',\n",
       "       'setosa', 'setosa', 'setosa', 'setosa', 'setosa', 'setosa',\n",
       "       'setosa', 'setosa', 'versicolor', 'versicolor', 'versicolor',\n",
       "       'versicolor', 'versicolor', 'versicolor', 'versicolor',\n",
       "       'versicolor', 'versicolor', 'versicolor', 'versicolor',\n",
       "       'versicolor', 'versicolor', 'versicolor', 'versicolor',\n",
       "       'versicolor', 'versicolor', 'versicolor', 'versicolor',\n",
       "       'versicolor', 'versicolor', 'versicolor', 'versicolor',\n",
       "       'versicolor', 'versicolor', 'versicolor', 'versicolor',\n",
       "       'versicolor', 'versicolor', 'versicolor', 'versicolor',\n",
       "       'versicolor', 'versicolor', 'versicolor', 'versicolor',\n",
       "       'versicolor', 'versicolor', 'versicolor', 'versicolor',\n",
       "       'versicolor', 'versicolor', 'versicolor', 'versicolor',\n",
       "       'versicolor', 'versicolor', 'versicolor', 'versicolor',\n",
       "       'versicolor', 'versicolor', 'versicolor', 'virginica', 'virginica',\n",
       "       'virginica', 'virginica', 'virginica', 'virginica', 'virginica',\n",
       "       'virginica', 'virginica', 'virginica', 'virginica', 'virginica',\n",
       "       'virginica', 'virginica', 'virginica', 'virginica', 'virginica',\n",
       "       'virginica', 'virginica', 'virginica', 'virginica', 'virginica',\n",
       "       'virginica', 'virginica', 'virginica', 'virginica', 'virginica',\n",
       "       'virginica', 'virginica', 'virginica', 'virginica', 'virginica',\n",
       "       'virginica', 'virginica', 'virginica', 'virginica', 'virginica',\n",
       "       'virginica', 'virginica', 'virginica', 'virginica', 'virginica',\n",
       "       'virginica', 'virginica', 'virginica', 'virginica', 'virginica',\n",
       "       'virginica', 'virginica', 'virginica'], dtype=object)"
      ]
     },
     "execution_count": 7,
     "metadata": {},
     "output_type": "execute_result"
    }
   ],
   "source": [
    "X = iris.iloc[:, :4].values\n",
    "y = iris.iloc[:, -1].values\n",
    "X\n",
    "y"
   ]
  },
  {
   "cell_type": "code",
   "execution_count": 14,
   "metadata": {},
   "outputs": [
    {
     "data": {
      "text/plain": [
       "array([[1, 0, 0],\n",
       "       [1, 0, 0],\n",
       "       [1, 0, 0],\n",
       "       [1, 0, 0],\n",
       "       [1, 0, 0],\n",
       "       [1, 0, 0],\n",
       "       [1, 0, 0],\n",
       "       [1, 0, 0],\n",
       "       [1, 0, 0],\n",
       "       [1, 0, 0],\n",
       "       [1, 0, 0],\n",
       "       [1, 0, 0],\n",
       "       [1, 0, 0],\n",
       "       [1, 0, 0],\n",
       "       [1, 0, 0],\n",
       "       [1, 0, 0],\n",
       "       [1, 0, 0],\n",
       "       [1, 0, 0],\n",
       "       [1, 0, 0],\n",
       "       [1, 0, 0],\n",
       "       [1, 0, 0],\n",
       "       [1, 0, 0],\n",
       "       [1, 0, 0],\n",
       "       [1, 0, 0],\n",
       "       [1, 0, 0],\n",
       "       [1, 0, 0],\n",
       "       [1, 0, 0],\n",
       "       [1, 0, 0],\n",
       "       [1, 0, 0],\n",
       "       [1, 0, 0],\n",
       "       [1, 0, 0],\n",
       "       [1, 0, 0],\n",
       "       [1, 0, 0],\n",
       "       [1, 0, 0],\n",
       "       [1, 0, 0],\n",
       "       [1, 0, 0],\n",
       "       [1, 0, 0],\n",
       "       [1, 0, 0],\n",
       "       [1, 0, 0],\n",
       "       [1, 0, 0],\n",
       "       [1, 0, 0],\n",
       "       [1, 0, 0],\n",
       "       [1, 0, 0],\n",
       "       [1, 0, 0],\n",
       "       [1, 0, 0],\n",
       "       [1, 0, 0],\n",
       "       [1, 0, 0],\n",
       "       [1, 0, 0],\n",
       "       [1, 0, 0],\n",
       "       [1, 0, 0],\n",
       "       [0, 1, 0],\n",
       "       [0, 1, 0],\n",
       "       [0, 1, 0],\n",
       "       [0, 1, 0],\n",
       "       [0, 1, 0],\n",
       "       [0, 1, 0],\n",
       "       [0, 1, 0],\n",
       "       [0, 1, 0],\n",
       "       [0, 1, 0],\n",
       "       [0, 1, 0],\n",
       "       [0, 1, 0],\n",
       "       [0, 1, 0],\n",
       "       [0, 1, 0],\n",
       "       [0, 1, 0],\n",
       "       [0, 1, 0],\n",
       "       [0, 1, 0],\n",
       "       [0, 1, 0],\n",
       "       [0, 1, 0],\n",
       "       [0, 1, 0],\n",
       "       [0, 1, 0],\n",
       "       [0, 1, 0],\n",
       "       [0, 1, 0],\n",
       "       [0, 1, 0],\n",
       "       [0, 1, 0],\n",
       "       [0, 1, 0],\n",
       "       [0, 1, 0],\n",
       "       [0, 1, 0],\n",
       "       [0, 1, 0],\n",
       "       [0, 1, 0],\n",
       "       [0, 1, 0],\n",
       "       [0, 1, 0],\n",
       "       [0, 1, 0],\n",
       "       [0, 1, 0],\n",
       "       [0, 1, 0],\n",
       "       [0, 1, 0],\n",
       "       [0, 1, 0],\n",
       "       [0, 1, 0],\n",
       "       [0, 1, 0],\n",
       "       [0, 1, 0],\n",
       "       [0, 1, 0],\n",
       "       [0, 1, 0],\n",
       "       [0, 1, 0],\n",
       "       [0, 1, 0],\n",
       "       [0, 1, 0],\n",
       "       [0, 1, 0],\n",
       "       [0, 1, 0],\n",
       "       [0, 1, 0],\n",
       "       [0, 1, 0],\n",
       "       [0, 1, 0],\n",
       "       [0, 1, 0],\n",
       "       [0, 0, 1],\n",
       "       [0, 0, 1],\n",
       "       [0, 0, 1],\n",
       "       [0, 0, 1],\n",
       "       [0, 0, 1],\n",
       "       [0, 0, 1],\n",
       "       [0, 0, 1],\n",
       "       [0, 0, 1],\n",
       "       [0, 0, 1],\n",
       "       [0, 0, 1],\n",
       "       [0, 0, 1],\n",
       "       [0, 0, 1],\n",
       "       [0, 0, 1],\n",
       "       [0, 0, 1],\n",
       "       [0, 0, 1],\n",
       "       [0, 0, 1],\n",
       "       [0, 0, 1],\n",
       "       [0, 0, 1],\n",
       "       [0, 0, 1],\n",
       "       [0, 0, 1],\n",
       "       [0, 0, 1],\n",
       "       [0, 0, 1],\n",
       "       [0, 0, 1],\n",
       "       [0, 0, 1],\n",
       "       [0, 0, 1],\n",
       "       [0, 0, 1],\n",
       "       [0, 0, 1],\n",
       "       [0, 0, 1],\n",
       "       [0, 0, 1],\n",
       "       [0, 0, 1],\n",
       "       [0, 0, 1],\n",
       "       [0, 0, 1],\n",
       "       [0, 0, 1],\n",
       "       [0, 0, 1],\n",
       "       [0, 0, 1],\n",
       "       [0, 0, 1],\n",
       "       [0, 0, 1],\n",
       "       [0, 0, 1],\n",
       "       [0, 0, 1],\n",
       "       [0, 0, 1],\n",
       "       [0, 0, 1],\n",
       "       [0, 0, 1],\n",
       "       [0, 0, 1],\n",
       "       [0, 0, 1],\n",
       "       [0, 0, 1],\n",
       "       [0, 0, 1],\n",
       "       [0, 0, 1],\n",
       "       [0, 0, 1],\n",
       "       [0, 0, 1],\n",
       "       [0, 0, 1]], dtype=uint8)"
      ]
     },
     "execution_count": 14,
     "metadata": {},
     "output_type": "execute_result"
    }
   ],
   "source": [
    "from sklearn.preprocessing import LabelEncoder\n",
    "\n",
    "encoder = LabelEncoder()\n",
    "y1 = encoder.fit_transform(y)\n",
    "y1 # 0000000,11111111,2222\n",
    "y2 = pd.get_dummies(y1).values\n",
    "y2 # 100, 010, 001  들로 만들어줌\n"
   ]
  },
  {
   "cell_type": "code",
   "execution_count": 15,
   "metadata": {},
   "outputs": [],
   "source": [
    "from sklearn.model_selection import train_test_split\n",
    "X_train , X_test , y_train , y_test = train_test_split(X, y2, test_size =0.2,\n",
    "                                                      random_state = 1)"
   ]
  },
  {
   "cell_type": "code",
   "execution_count": 16,
   "metadata": {},
   "outputs": [
    {
     "name": "stdout",
     "output_type": "stream",
     "text": [
      "WARNING:tensorflow:From C:\\Users\\acorn\\Anaconda3\\lib\\site-packages\\tensorflow_core\\python\\ops\\resource_variable_ops.py:1630: calling BaseResourceVariable.__init__ (from tensorflow.python.ops.resource_variable_ops) with constraint is deprecated and will be removed in a future version.\n",
      "Instructions for updating:\n",
      "If using Keras pass *_constraint arguments to layers.\n",
      "WARNING:tensorflow:From C:\\Users\\acorn\\Anaconda3\\lib\\site-packages\\keras\\backend\\tensorflow_backend.py:422: The name tf.global_variables is deprecated. Please use tf.compat.v1.global_variables instead.\n",
      "\n",
      "Train on 120 samples, validate on 30 samples\n",
      "Epoch 1/100\n",
      "120/120 [==============================] - 0s 884us/step - loss: 1.0310 - accuracy: 0.4583 - val_loss: 0.9824 - val_accuracy: 0.5667\n",
      "Epoch 2/100\n",
      "120/120 [==============================] - 0s 42us/step - loss: 0.8994 - accuracy: 0.6917 - val_loss: 0.9559 - val_accuracy: 0.5667\n",
      "Epoch 3/100\n",
      "120/120 [==============================] - 0s 42us/step - loss: 0.8358 - accuracy: 0.6917 - val_loss: 0.8845 - val_accuracy: 0.5667\n",
      "Epoch 4/100\n",
      "120/120 [==============================] - 0s 58us/step - loss: 0.7744 - accuracy: 0.7417 - val_loss: 0.7886 - val_accuracy: 0.6667\n",
      "Epoch 5/100\n",
      "120/120 [==============================] - 0s 49us/step - loss: 0.7144 - accuracy: 0.8750 - val_loss: 0.7369 - val_accuracy: 0.6667\n",
      "Epoch 6/100\n",
      "120/120 [==============================] - 0s 42us/step - loss: 0.6592 - accuracy: 0.8083 - val_loss: 0.7071 - val_accuracy: 0.6333\n",
      "Epoch 7/100\n",
      "120/120 [==============================] - 0s 42us/step - loss: 0.6022 - accuracy: 0.7833 - val_loss: 0.6493 - val_accuracy: 0.6667\n",
      "Epoch 8/100\n",
      "120/120 [==============================] - 0s 49us/step - loss: 0.5553 - accuracy: 0.8500 - val_loss: 0.6047 - val_accuracy: 0.7000\n",
      "Epoch 9/100\n",
      "120/120 [==============================] - 0s 42us/step - loss: 0.5090 - accuracy: 0.8750 - val_loss: 0.5541 - val_accuracy: 0.7333\n",
      "Epoch 10/100\n",
      "120/120 [==============================] - 0s 42us/step - loss: 0.4769 - accuracy: 0.9417 - val_loss: 0.5007 - val_accuracy: 0.9000\n",
      "Epoch 11/100\n",
      "120/120 [==============================] - 0s 41us/step - loss: 0.4393 - accuracy: 0.9333 - val_loss: 0.4983 - val_accuracy: 0.7333\n",
      "Epoch 12/100\n",
      "120/120 [==============================] - 0s 41us/step - loss: 0.4103 - accuracy: 0.8917 - val_loss: 0.4833 - val_accuracy: 0.7333\n",
      "Epoch 13/100\n",
      "120/120 [==============================] - 0s 41us/step - loss: 0.3820 - accuracy: 0.9417 - val_loss: 0.4196 - val_accuracy: 0.9333\n",
      "Epoch 14/100\n",
      "120/120 [==============================] - 0s 42us/step - loss: 0.3514 - accuracy: 0.9750 - val_loss: 0.4030 - val_accuracy: 0.9000\n",
      "Epoch 15/100\n",
      "120/120 [==============================] - 0s 42us/step - loss: 0.3285 - accuracy: 0.9667 - val_loss: 0.3927 - val_accuracy: 0.9000\n",
      "Epoch 16/100\n",
      "120/120 [==============================] - 0s 41us/step - loss: 0.3097 - accuracy: 0.9667 - val_loss: 0.3825 - val_accuracy: 0.9000\n",
      "Epoch 17/100\n",
      "120/120 [==============================] - 0s 33us/step - loss: 0.2939 - accuracy: 0.9667 - val_loss: 0.3583 - val_accuracy: 0.9333\n",
      "Epoch 18/100\n",
      "120/120 [==============================] - 0s 50us/step - loss: 0.2743 - accuracy: 0.9750 - val_loss: 0.3499 - val_accuracy: 0.9000\n",
      "Epoch 19/100\n",
      "120/120 [==============================] - 0s 42us/step - loss: 0.2591 - accuracy: 0.9667 - val_loss: 0.3348 - val_accuracy: 0.9333\n",
      "Epoch 20/100\n",
      "120/120 [==============================] - 0s 41us/step - loss: 0.2446 - accuracy: 0.9750 - val_loss: 0.3187 - val_accuracy: 0.9333\n",
      "Epoch 21/100\n",
      "120/120 [==============================] - 0s 42us/step - loss: 0.2368 - accuracy: 0.9750 - val_loss: 0.2992 - val_accuracy: 0.9333\n",
      "Epoch 22/100\n",
      "120/120 [==============================] - 0s 33us/step - loss: 0.2219 - accuracy: 0.9750 - val_loss: 0.3128 - val_accuracy: 0.9000\n",
      "Epoch 23/100\n",
      "120/120 [==============================] - 0s 42us/step - loss: 0.2114 - accuracy: 0.9750 - val_loss: 0.2819 - val_accuracy: 0.9333\n",
      "Epoch 24/100\n",
      "120/120 [==============================] - 0s 42us/step - loss: 0.2009 - accuracy: 0.9750 - val_loss: 0.2612 - val_accuracy: 0.9333\n",
      "Epoch 25/100\n",
      "120/120 [==============================] - 0s 42us/step - loss: 0.1898 - accuracy: 0.9833 - val_loss: 0.2744 - val_accuracy: 0.9333\n",
      "Epoch 26/100\n",
      "120/120 [==============================] - 0s 33us/step - loss: 0.1868 - accuracy: 0.9750 - val_loss: 0.2711 - val_accuracy: 0.9333\n",
      "Epoch 27/100\n",
      "120/120 [==============================] - 0s 34us/step - loss: 0.1746 - accuracy: 0.9750 - val_loss: 0.2335 - val_accuracy: 0.9333\n",
      "Epoch 28/100\n",
      "120/120 [==============================] - 0s 42us/step - loss: 0.1719 - accuracy: 0.9750 - val_loss: 0.2373 - val_accuracy: 0.9333\n",
      "Epoch 29/100\n",
      "120/120 [==============================] - 0s 41us/step - loss: 0.1626 - accuracy: 0.9750 - val_loss: 0.2330 - val_accuracy: 0.9333\n",
      "Epoch 30/100\n",
      "120/120 [==============================] - 0s 41us/step - loss: 0.1555 - accuracy: 0.9833 - val_loss: 0.2252 - val_accuracy: 0.9333\n",
      "Epoch 31/100\n",
      "120/120 [==============================] - 0s 40us/step - loss: 0.1505 - accuracy: 0.9833 - val_loss: 0.2190 - val_accuracy: 0.9333\n",
      "Epoch 32/100\n",
      "120/120 [==============================] - 0s 43us/step - loss: 0.1463 - accuracy: 0.9833 - val_loss: 0.2193 - val_accuracy: 0.9333\n",
      "Epoch 33/100\n",
      "120/120 [==============================] - 0s 41us/step - loss: 0.1437 - accuracy: 0.9833 - val_loss: 0.1989 - val_accuracy: 0.9333\n",
      "Epoch 34/100\n",
      "120/120 [==============================] - 0s 42us/step - loss: 0.1396 - accuracy: 0.9833 - val_loss: 0.2135 - val_accuracy: 0.9333\n",
      "Epoch 35/100\n",
      "120/120 [==============================] - 0s 41us/step - loss: 0.1361 - accuracy: 0.9750 - val_loss: 0.1880 - val_accuracy: 0.9667\n",
      "Epoch 36/100\n",
      "120/120 [==============================] - 0s 33us/step - loss: 0.1310 - accuracy: 0.9667 - val_loss: 0.1921 - val_accuracy: 0.9333\n",
      "Epoch 37/100\n",
      "120/120 [==============================] - 0s 49us/step - loss: 0.1345 - accuracy: 0.9750 - val_loss: 0.2114 - val_accuracy: 0.9333\n",
      "Epoch 38/100\n",
      "120/120 [==============================] - 0s 33us/step - loss: 0.1277 - accuracy: 0.9667 - val_loss: 0.1774 - val_accuracy: 0.9667\n",
      "Epoch 39/100\n",
      "120/120 [==============================] - 0s 41us/step - loss: 0.1239 - accuracy: 0.9833 - val_loss: 0.1791 - val_accuracy: 0.9333\n",
      "Epoch 40/100\n",
      "120/120 [==============================] - 0s 42us/step - loss: 0.1230 - accuracy: 0.9750 - val_loss: 0.1697 - val_accuracy: 0.9667\n",
      "Epoch 41/100\n",
      "120/120 [==============================] - 0s 42us/step - loss: 0.1239 - accuracy: 0.9667 - val_loss: 0.1919 - val_accuracy: 0.9333\n",
      "Epoch 42/100\n",
      "120/120 [==============================] - 0s 34us/step - loss: 0.1137 - accuracy: 0.9750 - val_loss: 0.1597 - val_accuracy: 0.9667\n",
      "Epoch 43/100\n",
      "120/120 [==============================] - 0s 33us/step - loss: 0.1157 - accuracy: 0.9667 - val_loss: 0.1547 - val_accuracy: 0.9667\n",
      "Epoch 44/100\n",
      "120/120 [==============================] - 0s 42us/step - loss: 0.1146 - accuracy: 0.9667 - val_loss: 0.1828 - val_accuracy: 0.9333\n",
      "Epoch 45/100\n",
      "120/120 [==============================] - 0s 42us/step - loss: 0.1100 - accuracy: 0.9750 - val_loss: 0.1642 - val_accuracy: 0.9333\n",
      "Epoch 46/100\n",
      "120/120 [==============================] - 0s 41us/step - loss: 0.1093 - accuracy: 0.9667 - val_loss: 0.1499 - val_accuracy: 0.9667\n",
      "Epoch 47/100\n",
      "120/120 [==============================] - 0s 33us/step - loss: 0.1055 - accuracy: 0.9667 - val_loss: 0.1586 - val_accuracy: 0.9333\n",
      "Epoch 48/100\n",
      "120/120 [==============================] - 0s 42us/step - loss: 0.1037 - accuracy: 0.9833 - val_loss: 0.1598 - val_accuracy: 0.9333\n",
      "Epoch 49/100\n",
      "120/120 [==============================] - 0s 42us/step - loss: 0.1013 - accuracy: 0.9833 - val_loss: 0.1468 - val_accuracy: 0.9667\n",
      "Epoch 50/100\n",
      "120/120 [==============================] - 0s 33us/step - loss: 0.1006 - accuracy: 0.9833 - val_loss: 0.1417 - val_accuracy: 0.9667\n",
      "Epoch 51/100\n",
      "120/120 [==============================] - 0s 42us/step - loss: 0.1029 - accuracy: 0.9667 - val_loss: 0.1346 - val_accuracy: 0.9667\n",
      "Epoch 52/100\n",
      "120/120 [==============================] - 0s 33us/step - loss: 0.1042 - accuracy: 0.9833 - val_loss: 0.1600 - val_accuracy: 0.9333\n",
      "Epoch 53/100\n"
     ]
    },
    {
     "name": "stdout",
     "output_type": "stream",
     "text": [
      "120/120 [==============================] - 0s 42us/step - loss: 0.1008 - accuracy: 0.9833 - val_loss: 0.1372 - val_accuracy: 0.9667\n",
      "Epoch 54/100\n",
      "120/120 [==============================] - 0s 33us/step - loss: 0.0951 - accuracy: 0.9833 - val_loss: 0.1374 - val_accuracy: 0.9667\n",
      "Epoch 55/100\n",
      "120/120 [==============================] - 0s 35us/step - loss: 0.0947 - accuracy: 0.9750 - val_loss: 0.1364 - val_accuracy: 0.9667\n",
      "Epoch 56/100\n",
      "120/120 [==============================] - 0s 42us/step - loss: 0.0936 - accuracy: 0.9833 - val_loss: 0.1386 - val_accuracy: 0.9667\n",
      "Epoch 57/100\n",
      "120/120 [==============================] - 0s 34us/step - loss: 0.0925 - accuracy: 0.9833 - val_loss: 0.1333 - val_accuracy: 0.9667\n",
      "Epoch 58/100\n",
      "120/120 [==============================] - 0s 42us/step - loss: 0.0917 - accuracy: 0.9833 - val_loss: 0.1278 - val_accuracy: 0.9667\n",
      "Epoch 59/100\n",
      "120/120 [==============================] - 0s 34us/step - loss: 0.0910 - accuracy: 0.9750 - val_loss: 0.1317 - val_accuracy: 0.9667\n",
      "Epoch 60/100\n",
      "120/120 [==============================] - 0s 42us/step - loss: 0.0897 - accuracy: 0.9833 - val_loss: 0.1267 - val_accuracy: 0.9667\n",
      "Epoch 61/100\n",
      "120/120 [==============================] - 0s 33us/step - loss: 0.0888 - accuracy: 0.9833 - val_loss: 0.1213 - val_accuracy: 0.9667\n",
      "Epoch 62/100\n",
      "120/120 [==============================] - 0s 34us/step - loss: 0.0896 - accuracy: 0.9667 - val_loss: 0.1199 - val_accuracy: 0.9667\n",
      "Epoch 63/100\n",
      "120/120 [==============================] - 0s 50us/step - loss: 0.0890 - accuracy: 0.9833 - val_loss: 0.1361 - val_accuracy: 0.9333\n",
      "Epoch 64/100\n",
      "120/120 [==============================] - 0s 33us/step - loss: 0.0904 - accuracy: 0.9750 - val_loss: 0.1175 - val_accuracy: 0.9667\n",
      "Epoch 65/100\n",
      "120/120 [==============================] - 0s 42us/step - loss: 0.0905 - accuracy: 0.9667 - val_loss: 0.1122 - val_accuracy: 0.9667\n",
      "Epoch 66/100\n",
      "120/120 [==============================] - 0s 34us/step - loss: 0.0870 - accuracy: 0.9667 - val_loss: 0.1167 - val_accuracy: 0.9667\n",
      "Epoch 67/100\n",
      "120/120 [==============================] - 0s 42us/step - loss: 0.0855 - accuracy: 0.9833 - val_loss: 0.1254 - val_accuracy: 0.9667\n",
      "Epoch 68/100\n",
      "120/120 [==============================] - 0s 33us/step - loss: 0.0874 - accuracy: 0.9750 - val_loss: 0.1179 - val_accuracy: 0.9667\n",
      "Epoch 69/100\n",
      "120/120 [==============================] - 0s 42us/step - loss: 0.0835 - accuracy: 0.9667 - val_loss: 0.1034 - val_accuracy: 1.0000\n",
      "Epoch 70/100\n",
      "120/120 [==============================] - 0s 34us/step - loss: 0.0871 - accuracy: 0.9667 - val_loss: 0.1046 - val_accuracy: 0.9667\n",
      "Epoch 71/100\n",
      "120/120 [==============================] - 0s 50us/step - loss: 0.0821 - accuracy: 0.9750 - val_loss: 0.1174 - val_accuracy: 0.9667\n",
      "Epoch 72/100\n",
      "120/120 [==============================] - 0s 42us/step - loss: 0.0824 - accuracy: 0.9833 - val_loss: 0.1105 - val_accuracy: 0.9667\n",
      "Epoch 73/100\n",
      "120/120 [==============================] - 0s 32us/step - loss: 0.0825 - accuracy: 0.9833 - val_loss: 0.1049 - val_accuracy: 0.9667\n",
      "Epoch 74/100\n",
      "120/120 [==============================] - 0s 50us/step - loss: 0.0809 - accuracy: 0.9750 - val_loss: 0.0981 - val_accuracy: 0.9667\n",
      "Epoch 75/100\n",
      "120/120 [==============================] - 0s 34us/step - loss: 0.0812 - accuracy: 0.9667 - val_loss: 0.1028 - val_accuracy: 0.9667\n",
      "Epoch 76/100\n",
      "120/120 [==============================] - 0s 42us/step - loss: 0.0829 - accuracy: 0.9667 - val_loss: 0.0997 - val_accuracy: 0.9667\n",
      "Epoch 77/100\n",
      "120/120 [==============================] - 0s 42us/step - loss: 0.0801 - accuracy: 0.9833 - val_loss: 0.1153 - val_accuracy: 0.9667\n",
      "Epoch 78/100\n",
      "120/120 [==============================] - 0s 40us/step - loss: 0.0812 - accuracy: 0.9750 - val_loss: 0.1027 - val_accuracy: 0.9667\n",
      "Epoch 79/100\n",
      "120/120 [==============================] - 0s 33us/step - loss: 0.0791 - accuracy: 0.9750 - val_loss: 0.0920 - val_accuracy: 1.0000\n",
      "Epoch 80/100\n",
      "120/120 [==============================] - 0s 33us/step - loss: 0.0828 - accuracy: 0.9750 - val_loss: 0.0998 - val_accuracy: 0.9667\n",
      "Epoch 81/100\n",
      "120/120 [==============================] - 0s 33us/step - loss: 0.0779 - accuracy: 0.9833 - val_loss: 0.0935 - val_accuracy: 0.9667\n",
      "Epoch 82/100\n",
      "120/120 [==============================] - 0s 41us/step - loss: 0.0781 - accuracy: 0.9833 - val_loss: 0.0928 - val_accuracy: 0.9667\n",
      "Epoch 83/100\n",
      "120/120 [==============================] - 0s 41us/step - loss: 0.0809 - accuracy: 0.9667 - val_loss: 0.0891 - val_accuracy: 0.9667\n",
      "Epoch 84/100\n",
      "120/120 [==============================] - 0s 32us/step - loss: 0.0842 - accuracy: 0.9667 - val_loss: 0.1076 - val_accuracy: 0.9667\n",
      "Epoch 85/100\n",
      "120/120 [==============================] - 0s 41us/step - loss: 0.0779 - accuracy: 0.9750 - val_loss: 0.0901 - val_accuracy: 0.9667\n",
      "Epoch 86/100\n",
      "120/120 [==============================] - 0s 42us/step - loss: 0.0779 - accuracy: 0.9833 - val_loss: 0.0862 - val_accuracy: 1.0000\n",
      "Epoch 87/100\n",
      "120/120 [==============================] - 0s 33us/step - loss: 0.0757 - accuracy: 0.9750 - val_loss: 0.0919 - val_accuracy: 0.9667\n",
      "Epoch 88/100\n",
      "120/120 [==============================] - 0s 41us/step - loss: 0.0802 - accuracy: 0.9750 - val_loss: 0.0979 - val_accuracy: 0.9667\n",
      "Epoch 89/100\n",
      "120/120 [==============================] - 0s 42us/step - loss: 0.0814 - accuracy: 0.9667 - val_loss: 0.0837 - val_accuracy: 1.0000\n",
      "Epoch 90/100\n",
      "120/120 [==============================] - 0s 33us/step - loss: 0.0752 - accuracy: 0.9750 - val_loss: 0.0870 - val_accuracy: 0.9667\n",
      "Epoch 91/100\n",
      "120/120 [==============================] - 0s 34us/step - loss: 0.0759 - accuracy: 0.9750 - val_loss: 0.0956 - val_accuracy: 0.9667\n",
      "Epoch 92/100\n",
      "120/120 [==============================] - 0s 43us/step - loss: 0.0784 - accuracy: 0.9750 - val_loss: 0.0857 - val_accuracy: 0.9667\n",
      "Epoch 93/100\n",
      "120/120 [==============================] - 0s 35us/step - loss: 0.0779 - accuracy: 0.9667 - val_loss: 0.0803 - val_accuracy: 1.0000\n",
      "Epoch 94/100\n",
      "120/120 [==============================] - 0s 33us/step - loss: 0.0798 - accuracy: 0.9667 - val_loss: 0.0867 - val_accuracy: 0.9667\n",
      "Epoch 95/100\n",
      "120/120 [==============================] - 0s 42us/step - loss: 0.0744 - accuracy: 0.9833 - val_loss: 0.0796 - val_accuracy: 1.0000\n",
      "Epoch 96/100\n",
      "120/120 [==============================] - 0s 33us/step - loss: 0.0773 - accuracy: 0.9667 - val_loss: 0.0788 - val_accuracy: 1.0000\n",
      "Epoch 97/100\n",
      "120/120 [==============================] - 0s 41us/step - loss: 0.0768 - accuracy: 0.9750 - val_loss: 0.1085 - val_accuracy: 0.9667\n",
      "Epoch 98/100\n",
      "120/120 [==============================] - 0s 42us/step - loss: 0.0793 - accuracy: 0.9750 - val_loss: 0.0826 - val_accuracy: 0.9667\n",
      "Epoch 99/100\n",
      "120/120 [==============================] - 0s 50us/step - loss: 0.0752 - accuracy: 0.9750 - val_loss: 0.0770 - val_accuracy: 1.0000\n",
      "Epoch 100/100\n",
      "120/120 [==============================] - 0s 42us/step - loss: 0.0761 - accuracy: 0.9833 - val_loss: 0.0856 - val_accuracy: 0.9667\n"
     ]
    }
   ],
   "source": [
    "model = Sequential()\n",
    "#입력의 개수는 4가지 속성 넣으니깐 4 출력의 개수는 내맘 64개\n",
    "model.add(Dense(64, input_shape=(4,), activation = \"relu\"))\n",
    "#입력개수 지정안해도됨\n",
    "model.add(Dense(64, activation = \"relu\"))\n",
    "model.add(Dense(3, activation = \"softmax\"))\n",
    "\n",
    "model.compile(loss = \"categorical_crossentropy\", optimizer = \"adam\", \n",
    "             metrics = [\"accuracy\"])\n",
    "hist = model.fit(X_train, y_train, epochs = 100, validation_data =(X_test,\n",
    "                                                                  y_test))"
   ]
  },
  {
   "cell_type": "code",
   "execution_count": 18,
   "metadata": {},
   "outputs": [
    {
     "name": "stdout",
     "output_type": "stream",
     "text": [
      "dict_keys(['val_loss', 'val_accuracy', 'loss', 'accuracy'])\n"
     ]
    },
    {
     "data": {
      "text/plain": [
       "[<matplotlib.lines.Line2D at 0x1b0b3aa4f08>]"
      ]
     },
     "execution_count": 18,
     "metadata": {},
     "output_type": "execute_result"
    },
    {
     "data": {
      "image/png": "[encoded data removed]",
      "text/plain": [
       "<Figure size 864x576 with 1 Axes>"
      ]
     },
     "metadata": {
      "needs_background": "light"
     },
     "output_type": "display_data"
    }
   ],
   "source": [
    "print(hist.history.keys())\n",
    "plt.figure(figsize =(12,8) )\n",
    "plt.plot(hist.history[\"loss\"])\n",
    "plt.plot(hist.history[\"val_loss\"])\n",
    "plt.plot(hist.history[\"accuracy\"])\n",
    "plt.plot(hist.history[\"val_accuracy\"])"
   ]
  },
  {
   "cell_type": "code",
   "execution_count": 19,
   "metadata": {},
   "outputs": [
    {
     "name": "stdout",
     "output_type": "stream",
     "text": [
      "30/30 [==============================] - 0s 32us/step\n",
      "0.08558161556720734 0.9666666388511658\n"
     ]
    }
   ],
   "source": [
    "loss, acc=model.evaluate(X_test, y_test)\n",
    "print(loss, acc)"
   ]
  },
  {
   "cell_type": "code",
   "execution_count": 21,
   "metadata": {},
   "outputs": [
    {
     "name": "stdout",
     "output_type": "stream",
     "text": [
      "              precision    recall  f1-score   support\n",
      "\n",
      "           0       1.00      1.00      1.00        11\n",
      "           1       1.00      0.92      0.96        13\n",
      "           2       0.86      1.00      0.92         6\n",
      "\n",
      "    accuracy                           0.97        30\n",
      "   macro avg       0.95      0.97      0.96        30\n",
      "weighted avg       0.97      0.97      0.97        30\n",
      "\n",
      "[[11  0  0]\n",
      " [ 0 12  1]\n",
      " [ 0  0  6]]\n",
      "품종예측 :  ['setosa']\n"
     ]
    }
   ],
   "source": [
    "from sklearn.metrics import classification_report, confusion_matrix\n",
    "\n",
    "y_pred = model.predict(X_test)\n",
    "\n",
    "y_test_class = np.argmax(y_test, axis = 1)\n",
    "y_pred_class = np.argmax(y_pred, axis = 1)\n",
    "\n",
    "print(classification_report(y_test_class, y_pred_class))\n",
    "print(confusion_matrix(y_test_class, y_pred_class))\n",
    "\n",
    "test_set = np.array([[5, 2.9, 1, 0.2]])\n",
    "\n",
    "print(\"품종예측 : \", iris[\"species\"].unique()[model.predict_classes(test_set)])\n"
   ]
  },
  {
   "cell_type": "markdown",
   "metadata": {},
   "source": [
    "# CNN\n"
   ]
  },
  {
   "cell_type": "code",
   "execution_count": 25,
   "metadata": {},
   "outputs": [
    {
     "name": "stdout",
     "output_type": "stream",
     "text": [
      "Epoch 1/5\n",
      "60000/60000 [==============================] - 13s 209us/step - loss: 0.2536 - accuracy: 0.9237\n",
      "Epoch 2/5\n",
      "60000/60000 [==============================] - 12s 195us/step - loss: 0.0670 - accuracy: 0.9794\n",
      "Epoch 3/5\n",
      "60000/60000 [==============================] - 12s 194us/step - loss: 0.0500 - accuracy: 0.9847\n",
      "Epoch 4/5\n",
      "60000/60000 [==============================] - 12s 193us/step - loss: 0.0404 - accuracy: 0.9877\n",
      "Epoch 5/5\n",
      "60000/60000 [==============================] - 12s 195us/step - loss: 0.0343 - accuracy: 0.9891\n"
     ]
    },
    {
     "data": {
      "text/plain": [
       "<keras.callbacks.callbacks.History at 0x1b0b42b4988>"
      ]
     },
     "execution_count": 25,
     "metadata": {},
     "output_type": "execute_result"
    }
   ],
   "source": [
    "from keras.datasets import mnist\n",
    "from keras import layers\n",
    "\n",
    "(X_train, y_train), (X_test, y_test) = mnist.load_data()\n",
    "# one hot 인코딩\n",
    "y_train= np_utils.to_categorical(y_train)\n",
    "y_test = np_utils.to_categorical(y_test)\n",
    "#이미지 데이터 스케일 조정\n",
    "\n",
    "X_train = X_train.reshape((60000, 28,28,1)).astype(\"float32\")/255\n",
    "X_test = X_test.reshape((10000, 28,28,1)).astype(\"float32\")/255\n",
    "\n",
    "model = Sequential()\n",
    "\n",
    "# conv layer : 필터개수는 32개, 크기는 3 * 3 \n",
    "#한장에 대한 정보 \n",
    "model.add(layers.Conv2D(32, (3,3), activation = \"relu\", input_shape=(28,28,1)))\n",
    "model.add(layers.MaxPool2D((2,2)))\n",
    "\n",
    "model.add(layers.Conv2D(32, (3,3), activation = \"relu\"))\n",
    "model.add(layers.MaxPool2D((2,2)))\n",
    "\n",
    "model.add(layers.Conv2D(32, (3,3), activation = \"relu\"))\n",
    "\n",
    "#FC Layer\n",
    "model.add(layers.Flatten())\n",
    "model.add(Dense(64, activation = \"relu\"))\n",
    "model.add(Dense(10, activation = \"softmax\"))\n",
    "\n",
    "# model.summary()\n",
    "\n",
    "model.compile(loss = \"categorical_crossentropy\", optimizer = \"adam\",\n",
    "             metrics = [\"accuracy\"])\n",
    "model.fit(X_train, y_train, epochs = 5, batch_size = 100)"
   ]
  },
  {
   "cell_type": "code",
   "execution_count": 26,
   "metadata": {},
   "outputs": [
    {
     "name": "stdout",
     "output_type": "stream",
     "text": [
      "10000/10000 [==============================] - 1s 90us/step\n",
      "0.031603475481411444 0.9897000193595886\n"
     ]
    }
   ],
   "source": [
    "loss, acc = model.evaluate(X_test, y_test)\n",
    "print(loss, acc)"
   ]
  },
  {
   "cell_type": "code",
   "execution_count": null,
   "metadata": {},
   "outputs": [],
   "source": []
  }
 ],
 "metadata": {
  "kernelspec": {
   "display_name": "Python 3",
   "language": "python",
   "name": "python3"
  },
  "language_info": {
   "codemirror_mode": {
    "name": "ipython",
    "version": 3
   },
   "file_extension": ".py",
   "mimetype": "text/x-python",
   "name": "python",
   "nbconvert_exporter": "python",
   "pygments_lexer": "ipython3",
   "version": "3.7.6"
  }
 },
 "nbformat": 4,
 "nbformat_minor": 4
}
