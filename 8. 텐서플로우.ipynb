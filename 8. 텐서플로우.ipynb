{
 "cells": [
  {
   "cell_type": "code",
   "execution_count": 1,
   "metadata": {},
   "outputs": [
    {
     "name": "stdout",
     "output_type": "stream",
     "text": [
      "1.15.0\n"
     ]
    }
   ],
   "source": [
    "# 텐서플로우 1버젼 설치 후 버젼 확인\n",
    "import tensorflow as tf\n",
    "print(tf.__version__)"
   ]
  },
  {
   "cell_type": "code",
   "execution_count": 2,
   "metadata": {},
   "outputs": [
    {
     "name": "stdout",
     "output_type": "stream",
     "text": [
      "('64bit', 'WindowsPE')\n"
     ]
    }
   ],
   "source": [
    "#텐서플로우는 64비트만 설치가능\n",
    "import platform \n",
    "print(platform.architecture())"
   ]
  },
  {
   "cell_type": "code",
   "execution_count": null,
   "metadata": {},
   "outputs": [],
   "source": [
    "\"\"\"\n",
    "conda update -n base conda\n",
    "conda update -all\n",
    "\"\"\""
   ]
  },
  {
   "cell_type": "code",
   "execution_count": null,
   "metadata": {},
   "outputs": [],
   "source": [
    "# 가상환경 만들기\n",
    "\"\"\"\n",
    "# 2.8버전과 동시에 \n",
    "conda creat -n tf2 python=2.8 anaconda\n",
    "\n",
    "# 기존의 파이썬 버전으로 깔기\n",
    "conda creat -n tf2 anaconda\n",
    "\n",
    "# 64비트 버전이 아닌경우\n",
    "set CONDA_FORCE_64BIT=1\n",
    "conda creat -n tf1 anaconda\n",
    "conda creat -n tf2 anaconda\n",
    "\n",
    "# 가상 환경 접속\n",
    "activate tf2\n",
    "\n",
    "# base로 돌아올 때 \n",
    "deactivate\n",
    "\n",
    "# 가상 환경 삭제 \n",
    "conda remove --name 가상환경이름 --all\n",
    "\"\"\""
   ]
  },
  {
   "cell_type": "code",
   "execution_count": null,
   "metadata": {},
   "outputs": [],
   "source": [
    "hello = tf.constant(\"Hello TensorFlow!\")\n",
    "hello"
   ]
  },
  {
   "cell_type": "code",
   "execution_count": null,
   "metadata": {},
   "outputs": [],
   "source": [
    "sess = tf.Session()"
   ]
  },
  {
   "cell_type": "code",
   "execution_count": null,
   "metadata": {},
   "outputs": [],
   "source": [
    "print(sess.run(hello))"
   ]
  },
  {
   "cell_type": "code",
   "execution_count": null,
   "metadata": {},
   "outputs": [],
   "source": [
    "a = tf.constant(10)\n",
    "print(a)"
   ]
  },
  {
   "cell_type": "code",
   "execution_count": null,
   "metadata": {},
   "outputs": [],
   "source": [
    "b = tf.constant(20)\n",
    "b"
   ]
  },
  {
   "cell_type": "code",
   "execution_count": null,
   "metadata": {},
   "outputs": [],
   "source": [
    "c = tf.add(a,b)\n",
    "c"
   ]
  },
  {
   "cell_type": "code",
   "execution_count": null,
   "metadata": {},
   "outputs": [],
   "source": [
    "sess = tf.Session()\n",
    "# sess.run(a)\n",
    "# sess.run(b)\n",
    "sess.run(c)"
   ]
  },
  {
   "cell_type": "code",
   "execution_count": null,
   "metadata": {},
   "outputs": [],
   "source": [
    "a = tf.constant([5])\n",
    "b = tf.constant([10])\n",
    "c = tf.constant([2])\n",
    "\n",
    "d = a + b * c\n",
    "print(d)\n",
    "\n",
    "sess = tf.Session()\n",
    "print(sess.run(d))"
   ]
  },
  {
   "cell_type": "markdown",
   "metadata": {},
   "source": [
    "# 구성요소\n",
    "<hr/>\n",
    "\n",
    "   + Constant()\n",
    "           - tf.constant(\n",
    "                value,\n",
    "                dtype=None,\n",
    "                shape=None,\n",
    "                name='Const',\n",
    "                verify_shape=False\n",
    "             )\n",
    "             \n",
    "           - 절대적으로 변하지 않는 상수를 의미\n",
    "           - 자체적으로 그래프를 갖는다 \n",
    "   + Variable()\n",
    "   - __init__(\n",
    "     initial_value=None,\n",
    "     trainable=None,\n",
    "     collections=None,\n",
    "     validate_shape=True,\n",
    "     caching_device=None,\n",
    "     name=None,\n",
    "     variable_def=None,\n",
    "     dtype=None,\n",
    "     expected_shape=None,\n",
    "     import_scope=None,\n",
    "     constraint=None,\n",
    "     use_resource=None,\n",
    "     synchronization=tf.VariableSynchronization.AUTO,\n",
    "     aggregation=tf.VariableAggregation.NONE,\n",
    "     shape=None\n",
    "\n",
    "    - 객체로 정의\n",
    "    - weight(가중치)를 저장하는 변수\n",
    "    - 사용 전에 반드시 초기화\n",
    "   + placeholder()\n",
    "       - 그래프를 만들지 안흔ㄴ다\n",
    "       - 입력된 데이터를 텐서와 매핑하는 역활"
   ]
  },
  {
   "cell_type": "code",
   "execution_count": 9,
   "metadata": {},
   "outputs": [
    {
     "data": {
      "text/plain": [
       "<tensorflow.python.summary.writer.writer.FileWriter at 0x22eb9faa548>"
      ]
     },
     "execution_count": 9,
     "metadata": {},
     "output_type": "execute_result"
    }
   ],
   "source": [
    "# Tensorboard\n",
    "tf.summary.FileWriter(\"log_dir\", graph=sess.graph)\n",
    "\n",
    "# 도스창에서 tensorboard --logdir=log_dir    \n",
    "# 도스창을 log_dir 이 있는 곳에서 실행\n",
    "# 도스창에 뜨는 주소로 이동 http://localhost:6006/#graphs&run="
   ]
  },
  {
   "cell_type": "markdown",
   "metadata": {},
   "source": [
    "\n",
    "\n",
    "    - Variable\n",
    "    __init__(\n",
    "    initial_value=None,\n",
    "    trainable=None,\n",
    "    collections=None,\n",
    "    validate_shape=True,\n",
    "    caching_device=None,\n",
    "    name=None,\n",
    "    variable_def=None,\n",
    "    dtype=None,\n",
    "    expected_shape=None,\n",
    "    import_scope=None,\n",
    "    constraint=None,\n",
    "    use_resource=None,\n",
    "    synchronization=tf.VariableSynchronization.AUTO,\n",
    "    aggregation=tf.VariableAggregation.NONE,\n",
    "    shape=None\n",
    "\n",
    "    - 객체로 정의"
   ]
  },
  {
   "cell_type": "markdown",
   "metadata": {},
   "source": [
    "# Variable\n"
   ]
  },
  {
   "cell_type": "code",
   "execution_count": 3,
   "metadata": {},
   "outputs": [],
   "source": [
    "v1 = tf.Variable(initial_value = [5])\n",
    "v2 = tf.Variable([3])\n",
    "v3 = tf.Variable([2])"
   ]
  },
  {
   "cell_type": "code",
   "execution_count": 4,
   "metadata": {},
   "outputs": [
    {
     "name": "stdout",
     "output_type": "stream",
     "text": [
      "Tensor(\"add_1:0\", shape=(1,), dtype=int32)\n"
     ]
    }
   ],
   "source": [
    "v4 = v1+v2+v3\n",
    "print(v4)"
   ]
  },
  {
   "cell_type": "code",
   "execution_count": 8,
   "metadata": {},
   "outputs": [
    {
     "data": {
      "text/plain": [
       "array([10])"
      ]
     },
     "execution_count": 8,
     "metadata": {},
     "output_type": "execute_result"
    }
   ],
   "source": [
    "sess = tf.Session()\n",
    "# sess.run(tf.initialize_all_variables())\n",
    "sess.run(tf.global_variables_initializer())\n",
    "sess.run(v4)"
   ]
  },
  {
   "cell_type": "code",
   "execution_count": 10,
   "metadata": {},
   "outputs": [
    {
     "data": {
      "text/plain": [
       "<tensorflow.python.summary.writer.writer.FileWriter at 0x22ebb06bf88>"
      ]
     },
     "execution_count": 10,
     "metadata": {},
     "output_type": "execute_result"
    }
   ],
   "source": [
    "tf.summary.FileWriter(\"log_dir\", graph = sess.graph)"
   ]
  },
  {
   "cell_type": "markdown",
   "metadata": {},
   "source": [
    "# placeholder"
   ]
  },
  {
   "cell_type": "code",
   "execution_count": 11,
   "metadata": {},
   "outputs": [
    {
     "data": {
      "text/plain": [
       "107.0"
      ]
     },
     "execution_count": 11,
     "metadata": {},
     "output_type": "execute_result"
    }
   ],
   "source": [
    "a = 5\n",
    "b =2 \n",
    "c = 3\n",
    "\n",
    "p1 = tf.placeholder(dtype = tf.float32)\n",
    "p2 = tf.placeholder(dtype = tf.float32)\n",
    "p3 = tf.placeholder(dtype = tf.float32)\n",
    "\n",
    "result = p1 + p2 +p3\n",
    "sess = tf.Session()\n",
    "sess.run(result, feed_dict = {p1:a, p2:b, p3:100})"
   ]
  },
  {
   "cell_type": "code",
   "execution_count": null,
   "metadata": {},
   "outputs": [],
   "source": []
  }
 ],
 "metadata": {
  "kernelspec": {
   "display_name": "Python 3",
   "language": "python",
   "name": "python3"
  },
  "language_info": {
   "codemirror_mode": {
    "name": "ipython",
    "version": 3
   },
   "file_extension": ".py",
   "mimetype": "text/x-python",
   "name": "python",
   "nbconvert_exporter": "python",
   "pygments_lexer": "ipython3",
   "version": "3.7.6"
  }
 },
 "nbformat": 4,
 "nbformat_minor": 4
}
