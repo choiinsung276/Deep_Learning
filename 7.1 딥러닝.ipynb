{
 "cells": [
  {
   "cell_type": "code",
   "execution_count": 1,
   "metadata": {},
   "outputs": [],
   "source": [
    "import tensorflow as tf\n",
    "import numpy as np\n",
    "import pandas as pd\n",
    "import matplotlib.pylab as plt\n",
    "import sys"
   ]
  },
  {
   "cell_type": "markdown",
   "metadata": {},
   "source": [
    "# 단순 선형 회귀\n",
    "\n",
    "https://jfun.tistory.com/157\n",
    "https://docs.google.com/presentation/d/137IlT2N3AYcclqxNuc8j9RDrIeHiYkSZ5JPg_vg9Jqk/edit#slide=id.g1d115b0ec5_0_138\n",
    "\n",
    "## 최소제곱법\n",
    "https://medium.com/@youngji/%EC%B5%9C%EC%86%8C%EC%A0%9C%EA%B3%B1%EB%B2%95-least-squared-method-f7357990329f"
   ]
  },
  {
   "cell_type": "code",
   "execution_count": 4,
   "metadata": {},
   "outputs": [
    {
     "name": "stdout",
     "output_type": "stream",
     "text": [
      "74.666664\n",
      "70.98\n",
      "67.386665\n",
      "63.88667\n",
      "60.479992\n",
      "57.166668\n",
      "53.946674\n",
      "50.819996\n",
      "47.78667\n",
      "44.84666\n",
      "42.0\n",
      "39.246666\n",
      "36.586662\n",
      "34.020004\n",
      "31.546667\n",
      "29.166666\n",
      "26.88\n",
      "24.686666\n",
      "22.58667\n",
      "20.58\n",
      "18.666666\n",
      "16.846666\n",
      "15.12\n",
      "13.486667\n",
      "11.946668\n",
      "10.5\n",
      "9.146666\n",
      "7.886667\n",
      "6.72\n",
      "5.646666\n",
      "4.6666665\n",
      "3.78\n",
      "2.986667\n",
      "2.2866664\n",
      "1.68\n",
      "1.1666666\n",
      "0.7466666\n",
      "0.42000008\n",
      "0.18666662\n",
      "0.04666671\n",
      "0.0\n",
      "0.04666671\n",
      "0.18666674\n",
      "0.41999987\n",
      "0.7466665\n",
      "1.1666666\n",
      "1.6800003\n",
      "2.2866673\n",
      "2.986666\n",
      "3.7799995\n",
      "4.6666665\n",
      "5.646666\n",
      "6.720001\n",
      "7.8866653\n",
      "9.146668\n",
      "10.5\n",
      "11.946666\n",
      "13.486669\n",
      "15.119998\n",
      "16.84667\n",
      "18.666666\n",
      "20.579996\n",
      "22.58667\n",
      "24.686666\n",
      "26.880005\n",
      "29.166666\n",
      "31.546661\n",
      "34.020004\n",
      "36.586662\n",
      "39.24667\n",
      "42.0\n",
      "44.84666\n",
      "47.786663\n",
      "50.820007\n",
      "53.946674\n",
      "57.166668\n",
      "60.479992\n",
      "63.886658\n",
      "67.386665\n",
      "70.98\n"
     ]
    },
    {
     "data": {
      "image/png": "[encoded data removed]",
      "text/plain": [
       "<Figure size 432x288 with 1 Axes>"
      ]
     },
     "metadata": {
      "needs_background": "light"
     },
     "output_type": "display_data"
    }
   ],
   "source": [
    "# 데이터 준비\n",
    "x_train = [1,2,3]\n",
    "y_train = [1,2,3]\n",
    "\n",
    "#가설 준비 : WX +b\n",
    "W = tf.placeholder(tf.float32)\n",
    "hypot = W*x_train\n",
    "\n",
    "#비용함수\n",
    "\n",
    "cost=tf.reduce_mean(tf.square(hypot - y_train))\n",
    "\n",
    "#----------------- 텐서플로우의 그래프 작성 완료\n",
    "\n",
    "sess = tf.Session()\n",
    "cost_val = []\n",
    "for i in range(-30,50):\n",
    "    cost_result = sess.run(cost, feed_dict = {W:i*0.1})\n",
    "    print(cost_result)\n",
    "    cost_val.append(cost_result)\n",
    "    \n",
    "plt.plot(cost_val)\n",
    "\n",
    "sess.close()"
   ]
  },
  {
   "cell_type": "markdown",
   "metadata": {},
   "source": [
    "### 경사하강 알고리즘을 이용한 가중치 학습"
   ]
  },
  {
   "cell_type": "code",
   "execution_count": 11,
   "metadata": {},
   "outputs": [
    {
     "name": "stdout",
     "output_type": "stream",
     "text": [
      "0 24.800497 [-0.275586]\n",
      "1 6.601957 [0.31968743]\n",
      "2 1.650272 [0.6371666]\n",
      "3 0.3616803 [0.8064889]\n",
      "4 0.05908748 [0.8967941]\n",
      "5 0.0071178987 [0.94495684]\n",
      "6 0.010522815 [0.97064364]\n",
      "7 0.021191249 [0.9843433]\n",
      "8 0.029399121 [0.99164975]\n",
      "9 0.0344929 [0.9955465]\n",
      "10 0.037413284 [0.9976248]\n",
      "11 0.03902879 [0.9987332]\n",
      "12 0.039906867 [0.9993244]\n",
      "13 0.040379886 [0.9996397]\n",
      "14 0.04063349 [0.99980783]\n",
      "15 0.040769126 [0.99989754]\n",
      "16 0.040841594 [0.99994534]\n",
      "17 0.04088023 [0.99997085]\n",
      "18 0.04090086 [0.99998444]\n",
      "19 0.040911857 [0.9999917]\n",
      "20 0.040917754 [0.9999956]\n"
     ]
    }
   ],
   "source": [
    "# 데이터 준비\n",
    "x_train = [1,2,3]\n",
    "y_train = [1,2,3]\n",
    "\n",
    "#가설 준비 : WX +b\n",
    "W = tf.Variable(tf.random_normal([1]), dtype = tf.float32)\n",
    "b = tf.Variable(tf.random_normal([1]), dtype = tf.float32)\n",
    "hypot = W*x_train +b\n",
    "\n",
    "#비용함수\n",
    "\n",
    "cost = tf.reduce_mean(tf.square(hypot - y_train))\n",
    "# 최저 비용 학습을 위한 경사하강알고리즘\n",
    "alpha = 0.1\n",
    "gradient = tf.reduce_mean((W*x_train - y_train)*x_train)\n",
    "descent = W - alpha * gradient\n",
    "update = W.assign(descent) # W = descent\n",
    "#----------------- 텐서플로우의 그래프 작성 완료\n",
    "\n",
    "sess = tf.Session()\n",
    "sess.run(tf.global_variables_initializer())\n",
    "\n",
    "for step in range(21):\n",
    "    _, c, w = sess.run([update, cost, W])\n",
    "    print(step, c, w)\n",
    "    \n",
    "\n",
    "\n",
    "sess.close()"
   ]
  },
  {
   "cell_type": "code",
   "execution_count": 18,
   "metadata": {},
   "outputs": [
    {
     "name": "stdout",
     "output_type": "stream",
     "text": [
      "0 13.287882 [0.8810772]\n",
      "1 0.50488716 [1.0118923]\n",
      "2 0.08903806 [0.99881077]\n",
      "3 0.11368157 [1.000119]\n",
      "4 0.11104767 [0.9999881]\n",
      "5 0.11130954 [1.0000012]\n",
      "6 0.111283325 [0.9999999]\n",
      "7 0.11128591 [1.]\n",
      "8 0.11128569 [1.]\n",
      "9 0.11128569 [1.]\n",
      "10 0.11128569 [1.]\n",
      "11 0.11128569 [1.]\n",
      "12 0.11128569 [1.]\n",
      "13 0.11128569 [1.]\n",
      "14 0.11128569 [1.]\n",
      "15 0.11128569 [1.]\n",
      "16 0.11128569 [1.]\n",
      "17 0.11128569 [1.]\n",
      "18 0.11128569 [1.]\n",
      "19 0.11128569 [1.]\n",
      "20 0.11128569 [1.]\n"
     ]
    }
   ],
   "source": [
    "# 데이터 준비\n",
    "x_train = tf.placeholder(tf.float32, shape = [5])\n",
    "y_train = tf.placeholder(tf.float32, shape = [5])\n",
    "\n",
    "#가설 준비 : WX +b\n",
    "W = tf.Variable(tf.random_normal([1]), dtype = tf.float32)\n",
    "b = tf.Variable(tf.random_normal([1]), dtype = tf.float32)\n",
    "hypot = W*x_train +b\n",
    "\n",
    "#비용함수\n",
    "\n",
    "cost = tf.reduce_mean(tf.square(hypot - y_train))\n",
    "# 최저 비용 학습을 위한 경사하강알고리즘\n",
    "alpha = 0.1\n",
    "gradient = tf.reduce_mean((W*x_train - y_train)*x_train)\n",
    "descent = W - alpha * gradient\n",
    "update = W.assign(descent) # W = descent\n",
    "#----------------- 텐서플로우의 그래프 작성 완료\n",
    "\n",
    "sess = tf.Session()\n",
    "sess.run(tf.global_variables_initializer())\n",
    "\n",
    "for step in range(21):\n",
    "    _, c, w = sess.run([update, cost, W], feed_dict ={x_train:[1,2,3,4,5],\n",
    "                                                      y_train:[1,2,3,4,5]})\n",
    "    print(step, c, w)\n",
    "    \n",
    "\n",
    "\n",
    "sess.close()"
   ]
  },
  {
   "cell_type": "markdown",
   "metadata": {},
   "source": [
    "# 크기를 None으로 설정"
   ]
  },
  {
   "cell_type": "code",
   "execution_count": 19,
   "metadata": {},
   "outputs": [
    {
     "name": "stdout",
     "output_type": "stream",
     "text": [
      "0 20.13534 [0.4604305]\n",
      "1 2.8828318 [1.2787776]\n",
      "2 2.2949235 [0.8559649]\n",
      "3 0.062248718 [1.0744182]\n",
      "4 0.53871214 [0.9615506]\n",
      "5 0.11179494 [1.0198655]\n",
      "6 0.28412005 [0.98973614]\n",
      "7 0.1822058 [1.0053029]\n",
      "8 0.23142302 [0.99726015]\n",
      "9 0.20507662 [1.0014156]\n",
      "10 0.21844399 [0.99926865]\n",
      "11 0.2114722 [1.0003779]\n",
      "12 0.2150567 [0.9998048]\n",
      "13 0.21320015 [1.0001009]\n",
      "14 0.214158 [0.99994785]\n",
      "15 0.21366267 [1.000027]\n",
      "16 0.21391855 [0.9999861]\n",
      "17 0.21378642 [1.0000072]\n",
      "18 0.2138545 [0.9999963]\n",
      "19 0.21381944 [1.0000019]\n",
      "20 0.21383755 [0.999999]\n"
     ]
    }
   ],
   "source": [
    "# 데이터 준비\n",
    "x_train = tf.placeholder(tf.float32, shape = [None])\n",
    "y_train = tf.placeholder(tf.float32, shape = [None])\n",
    "\n",
    "#가설 준비 : WX +b\n",
    "W = tf.Variable(tf.random_normal([1]), dtype = tf.float32)\n",
    "b = tf.Variable(tf.random_normal([1]), dtype = tf.float32)\n",
    "hypot = W*x_train +b\n",
    "\n",
    "#비용함수\n",
    "\n",
    "cost = tf.reduce_mean(tf.square(hypot - y_train))\n",
    "# 최저 비용 학습을 위한 경사하강알고리즘\n",
    "alpha = 0.1\n",
    "gradient = tf.reduce_mean((W*x_train - y_train)*x_train)\n",
    "descent = W - alpha * gradient\n",
    "update = W.assign(descent) # W = descent\n",
    "#----------------- 텐서플로우의 그래프 작성 완료\n",
    "\n",
    "sess = tf.Session()\n",
    "sess.run(tf.global_variables_initializer())\n",
    "\n",
    "for step in range(21):\n",
    "    _, c, w = sess.run([update, cost, W], feed_dict ={x_train:[1,2,3,4,5,6],\n",
    "                                                      y_train:[1,2,3,4,5,6]})\n",
    "    print(step, c, w)\n",
    "    \n",
    "\n",
    "\n",
    "sess.close()"
   ]
  },
  {
   "cell_type": "code",
   "execution_count": 26,
   "metadata": {},
   "outputs": [
    {
     "name": "stdout",
     "output_type": "stream",
     "text": [
      "0 21.51922 [-0.11483034] [0.17122863]\n",
      "20 0.032245986 [0.8801256] [0.41537863]\n",
      "40 0.027777946 [0.8921404] [0.38932863]\n",
      "60 0.024258688 [0.8992231] [0.3638364]\n",
      "80 0.021185277 [0.9058231] [0.3400084]\n",
      "100 0.018501256 [0.9119908] [0.31774098]\n",
      "120 0.016157292 [0.91775465] [0.29693195]\n",
      "140 0.014110285 [0.9231409] [0.27748567]\n",
      "160 0.012322612 [0.9281745] [0.259313]\n",
      "180 0.0107614305 [0.9328783] [0.24233037]\n",
      "200 0.00939805 [0.9372742] [0.22645997]\n",
      "220 0.00820738 [0.94138217] [0.21162891]\n",
      "240 0.0071675777 [0.94522107] [0.19776918]\n",
      "260 0.0062594973 [0.9488086] [0.18481715]\n",
      "280 0.0054664677 [0.95216125] [0.17271328]\n",
      "300 0.0047739 [0.9552942] [0.16140218]\n",
      "320 0.0041690925 [0.958222] [0.15083186]\n",
      "340 0.003640898 [0.96095806] [0.14095376]\n",
      "360 0.0031796235 [0.963515] [0.1317226]\n",
      "380 0.0027767785 [0.9659044] [0.12309593]\n",
      "400 0.0024249908 [0.9681373] [0.11503427]\n",
      "420 0.0021177568 [0.9702241] [0.10750065]\n",
      "440 0.0018494613 [0.9721741] [0.10046035]\n",
      "460 0.0016151427 [0.9739964] [0.09388112]\n",
      "480 0.001410517 [0.9756994] [0.08773279]\n",
      "500 0.0012318131 [0.97729087] [0.08198711]\n",
      "520 0.0010757506 [0.9787781] [0.07661771]\n",
      "540 0.00093946373 [0.980168] [0.07159994]\n",
      "560 0.0008204406 [0.9814668] [0.06691078]\n",
      "580 0.00071649696 [0.98268056] [0.06252871]\n",
      "600 0.0006257216 [0.9838148] [0.05843365]\n",
      "620 0.0005464476 [0.98487484] [0.05460679]\n",
      "640 0.00047721545 [0.98586535] [0.05103053]\n",
      "660 0.00041675864 [0.9867911] [0.0476885]\n",
      "680 0.00036395635 [0.9876561] [0.04456535]\n",
      "700 0.00031784683 [0.98846453] [0.04164674]\n",
      "720 0.00027757586 [0.98921996] [0.03891927]\n",
      "740 0.00024241142 [0.9899259] [0.0363705]\n",
      "760 0.00021169924 [0.99058574] [0.03398854]\n",
      "780 0.00018487964 [0.9912023] [0.03176259]\n",
      "800 0.00016145514 [0.99177843] [0.02968242]\n",
      "820 0.00014100113 [0.99231684] [0.02773851]\n",
      "840 0.00012313467 [0.99282] [0.0259219]\n",
      "860 0.00010753689 [0.99329025] [0.02422424]\n",
      "880 9.3912e-05 [0.9937297] [0.02263778]\n",
      "900 8.201375e-05 [0.9941404] [0.02115523]\n",
      "920 7.162416e-05 [0.9945241] [0.01976975]\n",
      "940 6.255031e-05 [0.99488264] [0.01847505]\n",
      "960 5.4625074e-05 [0.99521786] [0.01726509]\n",
      "980 4.770464e-05 [0.995531] [0.01613437]\n",
      "1000 4.1661104e-05 [0.99582374] [0.0150777]\n",
      "1020 3.63823e-05 [0.99609727] [0.01409022]\n",
      "1040 3.1772688e-05 [0.99635285] [0.01316743]\n",
      "1060 2.7747587e-05 [0.9965917] [0.0123051]\n",
      "1080 2.4232442e-05 [0.99681485] [0.01149925]\n",
      "1100 2.1162328e-05 [0.99702346] [0.01074616]\n",
      "1120 1.848113e-05 [0.9972184] [0.01004241]\n",
      "1140 1.6139902e-05 [0.9974005] [0.00938474]\n",
      "1160 1.4094677e-05 [0.9975708] [0.00877013]\n",
      "1180 1.2309334e-05 [0.9977299] [0.00819574]\n",
      "1200 1.0749374e-05 [0.9978786] [0.00765899]\n",
      "1220 9.387909e-06 [0.99801755] [0.00715739]\n",
      "1240 8.1983035e-06 [0.99814737] [0.00668864]\n",
      "1260 7.159727e-06 [0.9982687] [0.0062506]\n",
      "1280 6.252622e-06 [0.9983821] [0.00584121]\n",
      "1300 5.4603834e-06 [0.998488] [0.00545866]\n",
      "1320 4.768507e-06 [0.9985871] [0.00510117]\n",
      "1340 4.1643025e-06 [0.9986796] [0.00476707]\n",
      "1360 3.6368808e-06 [0.99876606] [0.00445489]\n",
      "1380 3.1760762e-06 [0.9988469] [0.00416315]\n",
      "1400 2.7737678e-06 [0.9989224] [0.0038905]\n",
      "1420 2.4224514e-06 [0.998993] [0.00363571]\n",
      "1440 2.1154872e-06 [0.99905896] [0.00339761]\n",
      "1460 1.8473893e-06 [0.99912053] [0.0031751]\n",
      "1480 1.6133274e-06 [0.9991782] [0.00296717]\n",
      "1500 1.4090267e-06 [0.999232] [0.00277285]\n",
      "1520 1.2304483e-06 [0.99928224] [0.00259128]\n",
      "1540 1.0746485e-06 [0.9993292] [0.00242158]\n",
      "1560 9.384956e-07 [0.9993732] [0.00226301]\n",
      "1580 8.1960405e-07 [0.9994142] [0.00211481]\n",
      "1600 7.1570287e-07 [0.99945253] [0.00197634]\n",
      "1620 6.251306e-07 [0.9994884] [0.00184694]\n",
      "1640 5.4593966e-07 [0.9995219] [0.001726]\n",
      "1660 4.768383e-07 [0.99955326] [0.00161298]\n",
      "1680 4.163325e-07 [0.99958247] [0.00150736]\n",
      "1700 3.6368496e-07 [0.9996098] [0.00140865]\n",
      "1720 3.1762653e-07 [0.99963534] [0.00131642]\n",
      "1740 2.7729857e-07 [0.99965924] [0.00123024]\n",
      "1760 2.4224937e-07 [0.9996815] [0.0011497]\n",
      "1780 2.1154844e-07 [0.99970233] [0.00107445]\n",
      "1800 1.8475828e-07 [0.9997218] [0.00100413]\n",
      "1820 1.6131894e-07 [0.99974006] [0.00093838]\n",
      "1840 1.4093705e-07 [0.99975705] [0.00087695]\n",
      "1860 1.2306793e-07 [0.9997729] [0.00081957]\n",
      "1880 1.0745153e-07 [0.9997878] [0.00076592]\n",
      "1900 9.387433e-08 [0.9998017] [0.00071577]\n",
      "1920 8.1977966e-08 [0.99981475] [0.00066891]\n",
      "1940 7.162373e-08 [0.9998268] [0.00062515]\n",
      "1960 6.2555124e-08 [0.9998381] [0.00058422]\n",
      "1980 5.462324e-08 [0.9998488] [0.00054599]\n",
      "2000 4.7694062e-08 [0.99985856] [0.00051027]\n"
     ]
    }
   ],
   "source": [
    "# 데이터 준비\n",
    "x_train = tf.placeholder(tf.float32, shape = [None])\n",
    "y_train = tf.placeholder(tf.float32, shape = [None])\n",
    "\n",
    "#가설 준비 : WX +b\n",
    "W = tf.Variable(tf.random_normal([1]), dtype = tf.float32)\n",
    "b = tf.Variable(tf.random_normal([1]), dtype = tf.float32)\n",
    "hypot = W*x_train +b\n",
    "\n",
    "#비용함수\n",
    "\n",
    "cost = tf.reduce_mean(tf.square(hypot - y_train))\n",
    "# 최저 비용 학습을 위한 경사하강알고리즘\n",
    "train = tf.train.GradientDescentOptimizer(learning_rate=0.01).minimize(cost)\n",
    "#----------------- 텐서플로우의 그래프 작성 완료\n",
    "\n",
    "sess = tf.Session()\n",
    "sess.run(tf.global_variables_initializer())\n",
    "\n",
    "for step in range(2001):\n",
    "    _, c, w, b1 = sess.run([train, cost, W,b], feed_dict ={x_train:[1,2,3,4,5],\n",
    "                                                      y_train:[1,2,3,4,5]})\n",
    "    if step%20 ==0:\n",
    "        print(step, c, w, b1)\n",
    "    \n",
    "\n"
   ]
  },
  {
   "cell_type": "code",
   "execution_count": 8,
   "metadata": {},
   "outputs": [
    {
     "name": "stdout",
     "output_type": "stream",
     "text": [
      "hi\n",
      "hi\n"
     ]
    }
   ],
   "source": [
    "for step in range(2):\n",
    "    print(\"hi\")"
   ]
  },
  {
   "cell_type": "code",
   "execution_count": 31,
   "metadata": {},
   "outputs": [
    {
     "name": "stdout",
     "output_type": "stream",
     "text": [
      "[26.996693]\n",
      "[2.5001566 3.699987 ]\n"
     ]
    }
   ],
   "source": [
    "# Testing\n",
    "print(sess.run(hypot, feed_dict={x_train:[27]}))\n",
    "print(sess.run(hypot, feed_dict={x_train:[2.5,3.7]}))\n",
    "sess.close()"
   ]
  },
  {
   "cell_type": "code",
   "execution_count": 30,
   "metadata": {},
   "outputs": [],
   "source": [
    "# 아래의 데이터를 가지고 하루 8시간을 일했을 때 매출액이 얼마인지 예측하시오.\n",
    "x_data = [1,2,3,4,5,6,7]\n",
    "y_data = [25000, 55000, 75000, 110000, 128000, 155000, 180000]"
   ]
  },
  {
   "cell_type": "code",
   "execution_count": 32,
   "metadata": {
    "collapsed": true
   },
   "outputs": [
    {
     "name": "stdout",
     "output_type": "stream",
     "text": [
      "0 13455772000.0 [10370.733] [2080.8945]\n",
      "20 10860105.0 [24971.338] [4752.3047]\n",
      "40 10542024.0 [25021.418] [4505.9087]\n",
      "60 10269361.0 [25067.496] [4277.725]\n",
      "80 10035639.0 [25110.16] [4066.4612]\n",
      "100 9835293.0 [25149.658] [3870.8628]\n",
      "120 9663551.0 [25186.229] [3689.7683]\n",
      "140 9516342.0 [25220.088] [3522.1008]\n",
      "160 9390148.0 [25251.436] [3366.8655]\n",
      "180 9281976.0 [25280.46] [3223.1418]\n",
      "200 9189237.0 [25307.332] [3090.0757]\n",
      "220 9109766.0 [25332.21] [2966.8757]\n",
      "240 9041638.0 [25355.244] [2852.8115]\n",
      "260 8983232.0 [25376.57] [2747.2048]\n",
      "280 8933173.0 [25396.314] [2649.4297]\n",
      "300 8890255.0 [25414.598] [2558.903]\n",
      "320 8853473.0 [25431.523] [2475.089]\n",
      "340 8821938.0 [25447.193] [2397.4907]\n",
      "360 8794908.0 [25461.701] [2325.6455]\n",
      "380 8771739.0 [25475.133] [2259.1284]\n",
      "400 8751878.0 [25487.57] [2197.543]\n",
      "420 8734846.0 [25499.084] [2140.524]\n",
      "440 8720254.0 [25509.744] [2087.734]\n",
      "460 8707749.0 [25519.615] [2038.8589]\n",
      "480 8697025.0 [25528.754] [1993.6062]\n",
      "500 8687835.0 [25537.215] [1951.7089]\n",
      "520 8679949.0 [25545.049] [1912.9177]\n",
      "540 8673196.0 [25552.3] [1877.0033]\n",
      "560 8667413.0 [25559.016] [1843.7521]\n",
      "580 8662446.0 [25565.23] [1812.9667]\n",
      "600 8658189.0 [25570.988] [1784.4646]\n",
      "620 8654542.0 [25576.318] [1758.0754]\n",
      "640 8651414.0 [25581.252] [1733.6427]\n",
      "660 8648737.0 [25585.82] [1711.0214]\n",
      "680 8646445.0 [25590.049] [1690.0774]\n",
      "700 8644472.0 [25593.965] [1670.6869]\n",
      "720 8642782.0 [25597.59] [1652.733]\n",
      "740 8641335.0 [25600.945] [1636.1117]\n",
      "760 8640098.0 [25604.055] [1620.7227]\n",
      "780 8639029.0 [25606.932] [1606.4747]\n",
      "800 8638122.0 [25609.596] [1593.2827]\n",
      "820 8637346.0 [25612.06] [1581.0693]\n",
      "840 8636673.0 [25614.344] [1569.7623]\n",
      "860 8636098.0 [25616.459] [1559.2935]\n",
      "880 8635605.0 [25618.416] [1549.6005]\n",
      "900 8635186.0 [25620.229] [1540.6267]\n",
      "920 8634822.0 [25621.906] [1532.3179]\n",
      "940 8634514.0 [25623.459] [1524.6257]\n",
      "960 8634249.0 [25624.898] [1517.5037]\n",
      "980 8634026.0 [25626.229] [1510.9099]\n",
      "1000 8633822.0 [25627.463] [1504.8044]\n",
      "1020 8633658.0 [25628.604] [1499.1519]\n",
      "1040 8633514.0 [25629.66] [1493.9192]\n",
      "1060 8633390.0 [25630.639] [1489.0741]\n",
      "1080 8633284.0 [25631.545] [1484.5875]\n",
      "1100 8633197.0 [25632.385] [1480.4348]\n",
      "1120 8633119.0 [25633.16] [1476.589]\n",
      "1140 8633054.0 [25633.879] [1473.0283]\n",
      "1160 8632994.0 [25634.545] [1469.7318]\n",
      "1180 8632945.0 [25635.16] [1466.68]\n",
      "1200 8632900.0 [25635.73] [1463.8547]\n",
      "1220 8632867.0 [25636.26] [1461.2389]\n",
      "1240 8632838.0 [25636.748] [1458.8171]\n",
      "1260 8632812.0 [25637.201] [1456.5753]\n",
      "1280 8632789.0 [25637.621] [1454.4989]\n",
      "1300 8632771.0 [25638.01] [1452.5768]\n",
      "1320 8632757.0 [25638.37] [1450.7975]\n",
      "1340 8632738.0 [25638.701] [1449.1495]\n",
      "1360 8632726.0 [25639.01] [1447.6233]\n",
      "1380 8632715.0 [25639.295] [1446.2114]\n",
      "1400 8632707.0 [25639.559] [1444.9027]\n",
      "1420 8632699.0 [25639.803] [1443.6924]\n",
      "1440 8632696.0 [25640.03] [1442.5712]\n",
      "1460 8632686.0 [25640.238] [1441.5334]\n",
      "1480 8632687.0 [25640.434] [1440.5728]\n",
      "1500 8632670.0 [25640.613] [1439.6826]\n",
      "1520 8632678.0 [25640.78] [1438.8597]\n",
      "1540 8632675.0 [25640.934] [1438.0972]\n",
      "1560 8632669.0 [25641.076] [1437.3905]\n",
      "1580 8632664.0 [25641.209] [1436.7365]\n",
      "1600 8632658.0 [25641.33] [1436.1315]\n",
      "1620 8632665.0 [25641.445] [1435.5704]\n",
      "1640 8632661.0 [25641.549] [1435.0508]\n",
      "1660 8632662.0 [25641.646] [1434.57]\n",
      "1680 8632651.0 [25641.736] [1434.126]\n",
      "1700 8632661.0 [25641.818] [1433.7146]\n",
      "1720 8632662.0 [25641.896] [1433.3336]\n",
      "1740 8632653.0 [25641.967] [1432.9791]\n",
      "1760 8632659.0 [25642.033] [1432.6512]\n",
      "1780 8632654.0 [25642.096] [1432.3485]\n",
      "1800 8632664.0 [25642.15] [1432.0686]\n",
      "1820 8632655.0 [25642.203] [1431.8099]\n",
      "1840 8632651.0 [25642.25] [1431.5709]\n",
      "1860 8632651.0 [25642.295] [1431.3497]\n",
      "1880 8632655.0 [25642.336] [1431.1456]\n",
      "1900 8632652.0 [25642.375] [1430.9565]\n",
      "1920 8632654.0 [25642.412] [1430.7786]\n",
      "1940 8632667.0 [25642.445] [1430.6132]\n",
      "1960 8632654.0 [25642.477] [1430.4606]\n",
      "1980 8632659.0 [25642.504] [1430.3191]\n",
      "2000 8632649.0 [25642.531] [1430.189]\n"
     ]
    }
   ],
   "source": [
    "# 데이터 준비\n",
    "x_train = tf.placeholder(tf.float32, shape = [None])\n",
    "y_train = tf.placeholder(tf.float32, shape = [None])\n",
    "\n",
    "#가설 준비 : WX +b\n",
    "W = tf.Variable(tf.random_normal([1]), dtype = tf.float32)\n",
    "b = tf.Variable(tf.random_normal([1]), dtype = tf.float32)\n",
    "hypot = W*x_train +b\n",
    "\n",
    "#비용함수\n",
    "\n",
    "cost = tf.reduce_mean(tf.square(hypot - y_train))\n",
    "# 최저 비용 학습을 위한 경사하강알고리즘\n",
    "train = tf.train.GradientDescentOptimizer(learning_rate=0.01).minimize(cost)\n",
    "#----------------- 텐서플로우의 그래프 작성 완료\n",
    "\n",
    "sess = tf.Session()\n",
    "sess.run(tf.global_variables_initializer())\n",
    "\n",
    "for step in range(2001):\n",
    "    _, c, w, b1 = sess.run([train, cost, W,b], feed_dict ={x_train:x_data,\n",
    "                                                      y_train:y_data})\n",
    "    if step%20 ==0:\n",
    "        print(step, c, w, b1)\n",
    "    \n"
   ]
  },
  {
   "cell_type": "code",
   "execution_count": 34,
   "metadata": {},
   "outputs": [
    {
     "name": "stdout",
     "output_type": "stream",
     "text": [
      "[206570.44]\n"
     ]
    }
   ],
   "source": [
    "print(sess.run(hypot, feed_dict={x_train:[8]}))\n",
    "sess.close()"
   ]
  },
  {
   "cell_type": "markdown",
   "metadata": {},
   "source": [
    "# 다중 선형회귀"
   ]
  },
  {
   "cell_type": "code",
   "execution_count": 35,
   "metadata": {},
   "outputs": [],
   "source": [
    "x1_data = [73., 93., 89., 96., 73.]\n",
    "x2_data = [80., 88., 91., 98., 66.]\n",
    "x3_data = [75., 93., 90., 100., 70.]\n",
    "y_data = [152., 185., 180., 196., 142.]"
   ]
  },
  {
   "cell_type": "code",
   "execution_count": 38,
   "metadata": {},
   "outputs": [],
   "source": [
    "X1 = tf.placeholder(tf.float32, shape = [None])\n",
    "X2 = tf.placeholder(tf.float32, shape = [None])\n",
    "X3 = tf.placeholder(tf.float32, shape = [None])\n",
    "\n",
    "y = tf.placeholder(tf.float32, shape= [None])\n",
    "\n"
   ]
  },
  {
   "cell_type": "code",
   "execution_count": 45,
   "metadata": {},
   "outputs": [
    {
     "name": "stdout",
     "output_type": "stream",
     "text": [
      "0 [149.76955 165.00108 170.42592 182.27022 125.21751] 193.35072\n",
      "100 [160.67249 178.5379  183.53874 196.57977 135.62532] 34.093212\n",
      "200 [160.4493  178.69048 183.46983 196.53407 135.82207] 32.3385\n",
      "300 [160.23201 178.83902 183.4027  196.48965 136.0135 ] 30.675976\n",
      "400 [160.02052 178.9836  183.33737 196.44653 136.19975] 29.101242\n",
      "500 [159.81462 179.12433 183.27376 196.40463 136.38095] 27.609348\n",
      "600 [159.6142  179.2613  183.21179 196.36392 136.55728] 26.195965\n",
      "700 [159.41907 179.39465 183.15146 196.32437 136.72882] 24.856943\n",
      "800 [159.22911 179.52449 183.09276 196.28598 136.89572] 23.588367\n",
      "900 [159.04419 179.65083 183.03557 196.2487  137.0581 ] 22.386608\n",
      "1000 [158.86415 179.77383 182.97986 196.2125  137.21608] 21.247997\n",
      "1100 [158.68892 179.89357 182.92564 196.1773  137.36978] 20.169407\n",
      "1200 [158.51828 180.01012 182.87285 196.14317 137.51932] 19.147438\n",
      "1300 [158.3522  180.1236  182.82144 196.11003 137.66481] 18.179262\n",
      "1400 [158.19049 180.23402 182.77135 196.07784 137.80634] 17.26199\n",
      "1500 [158.03307 180.34155 182.7226  196.0466  137.94405] 16.392895\n",
      "1600 [157.8798  180.44621 182.67514 196.01628 138.078  ] 15.569562\n",
      "1700 [157.73059 180.54808 182.62888 195.98683 138.20831] 14.789462\n",
      "1800 [157.58533 180.64726 182.58385 195.95827 138.33511] 14.050321\n",
      "1900 [157.44391 180.74382 182.54    195.93053 138.45845] 13.350035\n",
      "2000 [157.3062  180.8378  182.49727 195.90363 138.57843] 12.686487\n"
     ]
    }
   ],
   "source": [
    "#가설 준비\n",
    "W1 = tf.Variable(tf.random_normal([1]))\n",
    "W2 = tf.Variable(tf.random_normal([1]))\n",
    "W3 = tf.Variable(tf.random_normal([1]))\n",
    "b = tf.Variable(tf.random_normal([1]))\n",
    "\n",
    "hypot = W1*X1 +W2*X2 + W3*X3 +b\n",
    "#비용함수\n",
    "cost = tf.reduce_mean(tf.square(hypot- y))\n",
    "# 최소비용계산\n",
    "train = tf.train.GradientDescentOptimizer(learning_rate=1e-5).minimize(cost)\n",
    "\n",
    "with tf.Session() as sess:\n",
    "    sess.run(tf.global_variables_initializer())\n",
    "    for step in range(2001):\n",
    "        _, h, c=sess.run([train, hypot, cost], feed_dict = {X1:x1_data,\n",
    "                                                          X2:x2_data,\n",
    "                                                          X3:x3_data,\n",
    "                                                          y:y_data})\n",
    "        if step%100 == 0:\n",
    "            print(step, h, c)"
   ]
  },
  {
   "cell_type": "code",
   "execution_count": null,
   "metadata": {},
   "outputs": [],
   "source": []
  },
  {
   "cell_type": "code",
   "execution_count": 47,
   "metadata": {},
   "outputs": [
    {
     "name": "stdout",
     "output_type": "stream",
     "text": [
      "0 [[ 78.11021 ]\n",
      " [ 95.655754]\n",
      " [ 93.36368 ]\n",
      " [100.97087 ]\n",
      " [ 74.0487  ]] 6919.173\n",
      "100 [[151.90637]\n",
      " [184.37161]\n",
      " [180.76736]\n",
      " [196.15242]\n",
      " [141.7202 ]] 0.2188011\n",
      "200 [[151.89691]\n",
      " [184.37813]\n",
      " [180.76445]\n",
      " [196.15038]\n",
      " [141.72871]] 0.21558893\n",
      "300 [[151.88768]\n",
      " [184.38443]\n",
      " [180.76163]\n",
      " [196.14833]\n",
      " [141.73698]] 0.2125595\n",
      "400 [[151.87871]\n",
      " [184.3906 ]\n",
      " [180.75887]\n",
      " [196.1464 ]\n",
      " [141.74504]] 0.2096797\n",
      "500 [[151.86995]\n",
      " [184.39658]\n",
      " [180.75618]\n",
      " [196.14447]\n",
      " [141.75287]] 0.20695746\n",
      "600 [[151.86147]\n",
      " [184.4024 ]\n",
      " [180.75359]\n",
      " [196.14261]\n",
      " [141.7605 ]] 0.20438036\n",
      "700 [[151.8532 ]\n",
      " [184.40808]\n",
      " [180.75102]\n",
      " [196.14082]\n",
      " [141.76793]] 0.20192847\n",
      "800 [[151.84514]\n",
      " [184.41364]\n",
      " [180.74858]\n",
      " [196.13908]\n",
      " [141.77516]] 0.19961515\n",
      "900 [[151.83728]\n",
      " [184.41898]\n",
      " [180.74615]\n",
      " [196.13733]\n",
      " [141.78217]] 0.19742498\n",
      "1000 [[151.82965]\n",
      " [184.42421]\n",
      " [180.7438 ]\n",
      " [196.13568]\n",
      " [141.78902]] 0.1953445\n",
      "1100 [[151.82222]\n",
      " [184.4293 ]\n",
      " [180.74153]\n",
      " [196.13408]\n",
      " [141.79568]] 0.1933776\n",
      "1200 [[151.81499]\n",
      " [184.43427]\n",
      " [180.7393 ]\n",
      " [196.13249]\n",
      " [141.80215]] 0.19151051\n",
      "1300 [[151.80795]\n",
      " [184.43907]\n",
      " [180.73714]\n",
      " [196.13095]\n",
      " [141.80846]] 0.1897461\n",
      "1400 [[151.80109]\n",
      " [184.44376]\n",
      " [180.73502]\n",
      " [196.12946]\n",
      " [141.81459]] 0.18807152\n",
      "1500 [[151.79442]\n",
      " [184.44832]\n",
      " [180.73297]\n",
      " [196.12802]\n",
      " [141.82056]] 0.18649049\n",
      "1600 [[151.78795]\n",
      " [184.45279]\n",
      " [180.731  ]\n",
      " [196.1266 ]\n",
      " [141.82639]] 0.18498811\n",
      "1700 [[151.78162]\n",
      " [184.4571 ]\n",
      " [180.72905]\n",
      " [196.12523]\n",
      " [141.83203]] 0.18356659\n",
      "1800 [[151.77547]\n",
      " [184.46132]\n",
      " [180.72714]\n",
      " [196.12389]\n",
      " [141.83754]] 0.1822139\n",
      "1900 [[151.76949]\n",
      " [184.46542]\n",
      " [180.72531]\n",
      " [196.1226 ]\n",
      " [141.8429 ]] 0.1809398\n",
      "2000 [[151.76366]\n",
      " [184.4694 ]\n",
      " [180.72351]\n",
      " [196.12132]\n",
      " [141.8481 ]] 0.17972979\n"
     ]
    }
   ],
   "source": [
    "x_data = [[73., 80., 75.], [93., 88., 93.],\n",
    "         [89., 91., 90.], [96., 98., 100.], [73., 66., 70.]]\n",
    "y_data = [[152.],[185.],[180.],[196.],[142.]]\n",
    "\n",
    "# X = tf.placeholder(tf.float32, shape = [5,3])\n",
    "# y = tf.placeholder(tf.float32, shape = [5,1])\n",
    "X = tf.placeholder(tf.float32, shape = [None,3])\n",
    "y = tf.placeholder(tf.float32, shape = [None,1])\n",
    "\n",
    "#가설 준비\n",
    "W = tf.Variable(tf.random_normal([3,1]))\n",
    "b = tf.Variable(tf.random_normal([1]))\n",
    "\n",
    "hypot = tf.matmul(X,W) +b\n",
    "\n",
    "#비용함수\n",
    "cost = tf.reduce_mean(tf.square(hypot- y))\n",
    "# 최소비용계산\n",
    "train = tf.train.GradientDescentOptimizer(learning_rate=1e-5).minimize(cost)\n",
    "\n",
    "with tf.Session() as sess:\n",
    "    sess.run(tf.global_variables_initializer())\n",
    "    for step in range(2001):\n",
    "        _, h, c=sess.run([train, hypot, cost], feed_dict = {X:x_data, y:y_data})\n",
    "        if step%100 == 0:\n",
    "            print(step, h, c)"
   ]
  },
  {
   "cell_type": "markdown",
   "metadata": {},
   "source": [
    "## DASK\n",
    "    1. 가상 데이터프레임\n",
    "    2. 병렬 처리용 작업 스케쥴러"
   ]
  },
  {
   "cell_type": "code",
   "execution_count": 48,
   "metadata": {},
   "outputs": [
    {
     "name": "stdout",
     "output_type": "stream",
     "text": [
      "Writing data/sample1.csv\n"
     ]
    }
   ],
   "source": [
    "%%writefile \"data/sample1.csv\"\n",
    "c1, c2, c3\n",
    "1, 1.11, one\n",
    "2, 2.22, two\n",
    "3, 3.33, three"
   ]
  },
  {
   "cell_type": "code",
   "execution_count": 49,
   "metadata": {},
   "outputs": [
    {
     "data": {
      "text/html": [
       "<div>\n",
       "<style scoped>\n",
       "    .dataframe tbody tr th:only-of-type {\n",
       "        vertical-align: middle;\n",
       "    }\n",
       "\n",
       "    .dataframe tbody tr th {\n",
       "        vertical-align: top;\n",
       "    }\n",
       "\n",
       "    .dataframe thead th {\n",
       "        text-align: right;\n",
       "    }\n",
       "</style>\n",
       "<table border=\"1\" class=\"dataframe\">\n",
       "  <thead>\n",
       "    <tr style=\"text-align: right;\">\n",
       "      <th></th>\n",
       "      <th>c1</th>\n",
       "      <th>c2</th>\n",
       "      <th>c3</th>\n",
       "    </tr>\n",
       "  </thead>\n",
       "  <tbody>\n",
       "    <tr>\n",
       "      <th>0</th>\n",
       "      <td>1</td>\n",
       "      <td>1.11</td>\n",
       "      <td>one</td>\n",
       "    </tr>\n",
       "    <tr>\n",
       "      <th>1</th>\n",
       "      <td>2</td>\n",
       "      <td>2.22</td>\n",
       "      <td>two</td>\n",
       "    </tr>\n",
       "    <tr>\n",
       "      <th>2</th>\n",
       "      <td>3</td>\n",
       "      <td>3.33</td>\n",
       "      <td>three</td>\n",
       "    </tr>\n",
       "  </tbody>\n",
       "</table>\n",
       "</div>"
      ],
      "text/plain": [
       "   c1    c2      c3\n",
       "0   1  1.11     one\n",
       "1   2  2.22     two\n",
       "2   3  3.33   three"
      ]
     },
     "execution_count": 49,
     "metadata": {},
     "output_type": "execute_result"
    }
   ],
   "source": [
    "df1 = pd.read_csv(\"data/sample1.csv\")\n",
    "df1"
   ]
  },
  {
   "cell_type": "code",
   "execution_count": 50,
   "metadata": {},
   "outputs": [
    {
     "data": {
      "text/plain": [
       "2.22"
      ]
     },
     "execution_count": 50,
     "metadata": {},
     "output_type": "execute_result"
    }
   ],
   "source": [
    "df1[\" c2\"].mean()"
   ]
  },
  {
   "cell_type": "code",
   "execution_count": 51,
   "metadata": {},
   "outputs": [],
   "source": [
    "import dask.dataframe as dd"
   ]
  },
  {
   "cell_type": "code",
   "execution_count": 52,
   "metadata": {},
   "outputs": [
    {
     "data": {
      "text/html": [
       "<div><strong>Dask DataFrame Structure:</strong></div>\n",
       "<div>\n",
       "<style scoped>\n",
       "    .dataframe tbody tr th:only-of-type {\n",
       "        vertical-align: middle;\n",
       "    }\n",
       "\n",
       "    .dataframe tbody tr th {\n",
       "        vertical-align: top;\n",
       "    }\n",
       "\n",
       "    .dataframe thead th {\n",
       "        text-align: right;\n",
       "    }\n",
       "</style>\n",
       "<table border=\"1\" class=\"dataframe\">\n",
       "  <thead>\n",
       "    <tr style=\"text-align: right;\">\n",
       "      <th></th>\n",
       "      <th>c1</th>\n",
       "      <th>c2</th>\n",
       "      <th>c3</th>\n",
       "    </tr>\n",
       "    <tr>\n",
       "      <th>npartitions=1</th>\n",
       "      <th></th>\n",
       "      <th></th>\n",
       "      <th></th>\n",
       "    </tr>\n",
       "  </thead>\n",
       "  <tbody>\n",
       "    <tr>\n",
       "      <th></th>\n",
       "      <td>int64</td>\n",
       "      <td>float64</td>\n",
       "      <td>object</td>\n",
       "    </tr>\n",
       "    <tr>\n",
       "      <th></th>\n",
       "      <td>...</td>\n",
       "      <td>...</td>\n",
       "      <td>...</td>\n",
       "    </tr>\n",
       "  </tbody>\n",
       "</table>\n",
       "</div>\n",
       "<div>Dask Name: from-delayed, 3 tasks</div>"
      ],
      "text/plain": [
       "Dask DataFrame Structure:\n",
       "                  c1       c2      c3\n",
       "npartitions=1                        \n",
       "               int64  float64  object\n",
       "                 ...      ...     ...\n",
       "Dask Name: from-delayed, 3 tasks"
      ]
     },
     "execution_count": 52,
     "metadata": {},
     "output_type": "execute_result"
    }
   ],
   "source": [
    "df2 = dd.read_csv(\"data/sample1.csv\")\n",
    "df2"
   ]
  },
  {
   "cell_type": "code",
   "execution_count": 53,
   "metadata": {},
   "outputs": [
    {
     "name": "stderr",
     "output_type": "stream",
     "text": [
      "C:\\Users\\acorn\\Anaconda3\\lib\\site-packages\\dask\\dataframe\\core.py:5943: UserWarning: Insufficient elements for `head`. 5 elements requested, only 3 elements available. Try passing larger `npartitions` to `head`.\n",
      "  warnings.warn(msg.format(n, len(r)))\n"
     ]
    },
    {
     "data": {
      "text/html": [
       "<div>\n",
       "<style scoped>\n",
       "    .dataframe tbody tr th:only-of-type {\n",
       "        vertical-align: middle;\n",
       "    }\n",
       "\n",
       "    .dataframe tbody tr th {\n",
       "        vertical-align: top;\n",
       "    }\n",
       "\n",
       "    .dataframe thead th {\n",
       "        text-align: right;\n",
       "    }\n",
       "</style>\n",
       "<table border=\"1\" class=\"dataframe\">\n",
       "  <thead>\n",
       "    <tr style=\"text-align: right;\">\n",
       "      <th></th>\n",
       "      <th>c1</th>\n",
       "      <th>c2</th>\n",
       "      <th>c3</th>\n",
       "    </tr>\n",
       "  </thead>\n",
       "  <tbody>\n",
       "    <tr>\n",
       "      <th>0</th>\n",
       "      <td>1</td>\n",
       "      <td>1.11</td>\n",
       "      <td>one</td>\n",
       "    </tr>\n",
       "    <tr>\n",
       "      <th>1</th>\n",
       "      <td>2</td>\n",
       "      <td>2.22</td>\n",
       "      <td>two</td>\n",
       "    </tr>\n",
       "    <tr>\n",
       "      <th>2</th>\n",
       "      <td>3</td>\n",
       "      <td>3.33</td>\n",
       "      <td>three</td>\n",
       "    </tr>\n",
       "  </tbody>\n",
       "</table>\n",
       "</div>"
      ],
      "text/plain": [
       "   c1    c2      c3\n",
       "0   1  1.11     one\n",
       "1   2  2.22     two\n",
       "2   3  3.33   three"
      ]
     },
     "execution_count": 53,
     "metadata": {},
     "output_type": "execute_result"
    }
   ],
   "source": [
    "df2.head()"
   ]
  },
  {
   "cell_type": "code",
   "execution_count": 54,
   "metadata": {},
   "outputs": [
    {
     "data": {
      "image/png": "[encoded data removed]",
      "text/plain": [
       "<IPython.core.display.Image object>"
      ]
     },
     "execution_count": 54,
     "metadata": {},
     "output_type": "execute_result"
    }
   ],
   "source": [
    "df2.visualize()"
   ]
  },
  {
   "cell_type": "code",
   "execution_count": 55,
   "metadata": {},
   "outputs": [
    {
     "data": {
      "text/plain": [
       "dd.Scalar<series-..., dtype=float64>"
      ]
     },
     "execution_count": 55,
     "metadata": {},
     "output_type": "execute_result"
    }
   ],
   "source": [
    "df2[\" c2\"].mean()"
   ]
  },
  {
   "cell_type": "code",
   "execution_count": 56,
   "metadata": {},
   "outputs": [
    {
     "data": {
      "image/png": "[encoded data removed]",
      "text/plain": [
       "<IPython.core.display.Image object>"
      ]
     },
     "execution_count": 56,
     "metadata": {},
     "output_type": "execute_result"
    }
   ],
   "source": [
    "df2.visualize()"
   ]
  },
  {
   "cell_type": "code",
   "execution_count": 57,
   "metadata": {},
   "outputs": [
    {
     "data": {
      "text/plain": [
       "2.22"
      ]
     },
     "execution_count": 57,
     "metadata": {},
     "output_type": "execute_result"
    }
   ],
   "source": [
    "df2[\" c2\"].mean().compute()"
   ]
  },
  {
   "cell_type": "code",
   "execution_count": 58,
   "metadata": {},
   "outputs": [
    {
     "data": {
      "text/html": [
       "<div>\n",
       "<style scoped>\n",
       "    .dataframe tbody tr th:only-of-type {\n",
       "        vertical-align: middle;\n",
       "    }\n",
       "\n",
       "    .dataframe tbody tr th {\n",
       "        vertical-align: top;\n",
       "    }\n",
       "\n",
       "    .dataframe thead th {\n",
       "        text-align: right;\n",
       "    }\n",
       "</style>\n",
       "<table border=\"1\" class=\"dataframe\">\n",
       "  <thead>\n",
       "    <tr style=\"text-align: right;\">\n",
       "      <th></th>\n",
       "      <th>c1</th>\n",
       "      <th>c2</th>\n",
       "      <th>c3</th>\n",
       "    </tr>\n",
       "  </thead>\n",
       "  <tbody>\n",
       "    <tr>\n",
       "      <th>0</th>\n",
       "      <td>1</td>\n",
       "      <td>100</td>\n",
       "      <td>one</td>\n",
       "    </tr>\n",
       "    <tr>\n",
       "      <th>1</th>\n",
       "      <td>2</td>\n",
       "      <td>100</td>\n",
       "      <td>two</td>\n",
       "    </tr>\n",
       "    <tr>\n",
       "      <th>2</th>\n",
       "      <td>3</td>\n",
       "      <td>100</td>\n",
       "      <td>three</td>\n",
       "    </tr>\n",
       "  </tbody>\n",
       "</table>\n",
       "</div>"
      ],
      "text/plain": [
       "   c1   c2      c3\n",
       "0   1  100     one\n",
       "1   2  100     two\n",
       "2   3  100   three"
      ]
     },
     "execution_count": 58,
     "metadata": {},
     "output_type": "execute_result"
    }
   ],
   "source": [
    "df1[\" c2\"] = 100\n",
    "df1"
   ]
  },
  {
   "cell_type": "code",
   "execution_count": 59,
   "metadata": {},
   "outputs": [
    {
     "name": "stderr",
     "output_type": "stream",
     "text": [
      "C:\\Users\\acorn\\Anaconda3\\lib\\site-packages\\dask\\dataframe\\core.py:5943: UserWarning: Insufficient elements for `head`. 5 elements requested, only 3 elements available. Try passing larger `npartitions` to `head`.\n",
      "  warnings.warn(msg.format(n, len(r)))\n"
     ]
    },
    {
     "data": {
      "text/html": [
       "<div>\n",
       "<style scoped>\n",
       "    .dataframe tbody tr th:only-of-type {\n",
       "        vertical-align: middle;\n",
       "    }\n",
       "\n",
       "    .dataframe tbody tr th {\n",
       "        vertical-align: top;\n",
       "    }\n",
       "\n",
       "    .dataframe thead th {\n",
       "        text-align: right;\n",
       "    }\n",
       "</style>\n",
       "<table border=\"1\" class=\"dataframe\">\n",
       "  <thead>\n",
       "    <tr style=\"text-align: right;\">\n",
       "      <th></th>\n",
       "      <th>c1</th>\n",
       "      <th>c2</th>\n",
       "      <th>c3</th>\n",
       "      <th>c2</th>\n",
       "    </tr>\n",
       "  </thead>\n",
       "  <tbody>\n",
       "    <tr>\n",
       "      <th>0</th>\n",
       "      <td>1</td>\n",
       "      <td>1.11</td>\n",
       "      <td>one</td>\n",
       "      <td>100</td>\n",
       "    </tr>\n",
       "    <tr>\n",
       "      <th>1</th>\n",
       "      <td>2</td>\n",
       "      <td>2.22</td>\n",
       "      <td>two</td>\n",
       "      <td>100</td>\n",
       "    </tr>\n",
       "    <tr>\n",
       "      <th>2</th>\n",
       "      <td>3</td>\n",
       "      <td>3.33</td>\n",
       "      <td>three</td>\n",
       "      <td>100</td>\n",
       "    </tr>\n",
       "  </tbody>\n",
       "</table>\n",
       "</div>"
      ],
      "text/plain": [
       "   c1    c2      c3   c2\n",
       "0   1  1.11     one  100\n",
       "1   2  2.22     two  100\n",
       "2   3  3.33   three  100"
      ]
     },
     "execution_count": 59,
     "metadata": {},
     "output_type": "execute_result"
    }
   ],
   "source": [
    "df2 = df2.assign(c2 = 100)\n",
    "df2.head()"
   ]
  },
  {
   "cell_type": "code",
   "execution_count": 68,
   "metadata": {},
   "outputs": [
    {
     "name": "stdout",
     "output_type": "stream",
     "text": [
      "Overwriting data/datatest1.csv\n"
     ]
    }
   ],
   "source": [
    "%%writefile data/datatest1.csv\n",
    "time,temp,humidity\n",
    "0,22,58\n",
    "1,21,57\n",
    "2,25,57\n",
    "3,26,55\n",
    "4,22,53\n",
    "5,23,59"
   ]
  },
  {
   "cell_type": "code",
   "execution_count": 69,
   "metadata": {},
   "outputs": [
    {
     "name": "stdout",
     "output_type": "stream",
     "text": [
      "Writing data/datatest2.csv\n"
     ]
    }
   ],
   "source": [
    "%%writefile data/datatest2.csv\n",
    "time,temp,humidity\n",
    "0,22,58\n",
    "1,21,57\n",
    "2,25,57\n",
    "3,26,55\n",
    "4,22,53\n",
    "5,23,59"
   ]
  },
  {
   "cell_type": "code",
   "execution_count": 70,
   "metadata": {},
   "outputs": [
    {
     "name": "stdout",
     "output_type": "stream",
     "text": [
      "Overwriting data/datatest3.csv\n"
     ]
    }
   ],
   "source": [
    "%%writefile data/datatest3.csv\n",
    "time,temp,humidity\n",
    "0,22,58\n",
    "1,21,57\n",
    "2,25,57\n",
    "3,26,55\n",
    "4,22,53\n",
    "5,23,59"
   ]
  },
  {
   "cell_type": "code",
   "execution_count": 71,
   "metadata": {},
   "outputs": [
    {
     "data": {
      "text/plain": [
       "time        18\n",
       "temp        18\n",
       "humidity    18\n",
       "dtype: int64"
      ]
     },
     "execution_count": 71,
     "metadata": {},
     "output_type": "execute_result"
    }
   ],
   "source": [
    "df3 = dd.read_csv(\"data/data*.csv\")\n",
    "df3\n",
    "df3.count().compute()"
   ]
  },
  {
   "cell_type": "code",
   "execution_count": 72,
   "metadata": {},
   "outputs": [
    {
     "data": {
      "text/plain": [
       "count    18.000000\n",
       "mean     23.166667\n",
       "std       1.823055\n",
       "min      21.000000\n",
       "25%      22.000000\n",
       "50%      22.500000\n",
       "75%      24.500000\n",
       "max      26.000000\n",
       "Name: temp, dtype: float64"
      ]
     },
     "execution_count": 72,
     "metadata": {},
     "output_type": "execute_result"
    }
   ],
   "source": [
    "df3.temp.describe().compute()"
   ]
  },
  {
   "cell_type": "code",
   "execution_count": null,
   "metadata": {},
   "outputs": [],
   "source": [
    "# 대량 데이터의 병렬처리\n",
    "df4 = dd.read_csv(\"data/crime.csv\", dtype = str, error_bad_lines = False,\n",
    "                 warn_bad_lines = False)"
   ]
  },
  {
   "cell_type": "code",
   "execution_count": null,
   "metadata": {},
   "outputs": [],
   "source": [
    "df4"
   ]
  },
  {
   "cell_type": "code",
   "execution_count": null,
   "metadata": {},
   "outputs": [],
   "source": [
    "df4.tail()\n",
    "df4.count().compute()"
   ]
  },
  {
   "cell_type": "code",
   "execution_count": null,
   "metadata": {},
   "outputs": [],
   "source": [
    "from dask.diagnostics import ProgressBar\n",
    "pbar = ProgressBar()\n",
    "pbar.register()"
   ]
  },
  {
   "cell_type": "code",
   "execution_count": null,
   "metadata": {},
   "outputs": [],
   "source": [
    "%%time\n",
    "df4.count().compute()"
   ]
  },
  {
   "cell_type": "code",
   "execution_count": null,
   "metadata": {},
   "outputs": [],
   "source": [
    "\"\"\"\n",
    "Dask에서 제공하는 스케줄러\n",
    "    - dask.get : 단일 쓰레드\n",
    "    - dask.threaded.get : 멀티 스레드 풀(pool)\n",
    "    - dask.multiprocessing.get : 멀티 프로세스 풀\n",
    "    - distributed.Client.get : 여러 대의 컴퓨터에서 분산 처리\n",
    "    \n",
    "\"\"\""
   ]
  },
  {
   "cell_type": "code",
   "execution_count": null,
   "metadata": {},
   "outputs": [],
   "source": [
    "%%time\n",
    "df4.count().compute(scheduler = \"processes\", num_workers = 4)"
   ]
  },
  {
   "cell_type": "markdown",
   "metadata": {},
   "source": [
    "### Batch\n",
    "    - https://tykimos.github.io/2017/03/25/Fit_Talk/\n",
    "    - https://github.com/hunkim/DeepLearningZeroToAll/blob/master/lab-04-4-tf_reader_linear_regression.py\n",
    "    \n",
    "    -주석\n",
    "    - https://sshkim.tistory.com/139\n",
    "    -Batch : 전체 데이터\n",
    "    -Stochastic : 1개 데이터\n",
    "    -Mini-Batch\n",
    "    \n",
    "### Epoch\n",
    "    - 알고리즘의 수행횟수"
   ]
  },
  {
   "cell_type": "code",
   "execution_count": 73,
   "metadata": {},
   "outputs": [
    {
     "name": "stdout",
     "output_type": "stream",
     "text": [
      "WARNING:tensorflow:From <ipython-input-73-f7cbcdf1c53c>:2: string_input_producer (from tensorflow.python.training.input) is deprecated and will be removed in a future version.\n",
      "Instructions for updating:\n",
      "Queue-based input pipelines have been replaced by `tf.data`. Use `tf.data.Dataset.from_tensor_slices(string_tensor).shuffle(tf.shape(input_tensor, out_type=tf.int64)[0]).repeat(num_epochs)`. If `shuffle=False`, omit the `.shuffle(...)`.\n",
      "WARNING:tensorflow:From C:\\Users\\acorn\\Anaconda3\\lib\\site-packages\\tensorflow_core\\python\\training\\input.py:277: input_producer (from tensorflow.python.training.input) is deprecated and will be removed in a future version.\n",
      "Instructions for updating:\n",
      "Queue-based input pipelines have been replaced by `tf.data`. Use `tf.data.Dataset.from_tensor_slices(input_tensor).shuffle(tf.shape(input_tensor, out_type=tf.int64)[0]).repeat(num_epochs)`. If `shuffle=False`, omit the `.shuffle(...)`.\n",
      "WARNING:tensorflow:From C:\\Users\\acorn\\Anaconda3\\lib\\site-packages\\tensorflow_core\\python\\training\\input.py:189: limit_epochs (from tensorflow.python.training.input) is deprecated and will be removed in a future version.\n",
      "Instructions for updating:\n",
      "Queue-based input pipelines have been replaced by `tf.data`. Use `tf.data.Dataset.from_tensors(tensor).repeat(num_epochs)`.\n",
      "WARNING:tensorflow:From C:\\Users\\acorn\\Anaconda3\\lib\\site-packages\\tensorflow_core\\python\\training\\input.py:198: QueueRunner.__init__ (from tensorflow.python.training.queue_runner_impl) is deprecated and will be removed in a future version.\n",
      "Instructions for updating:\n",
      "To construct input pipelines, use the `tf.data` module.\n",
      "WARNING:tensorflow:From C:\\Users\\acorn\\Anaconda3\\lib\\site-packages\\tensorflow_core\\python\\training\\input.py:198: add_queue_runner (from tensorflow.python.training.queue_runner_impl) is deprecated and will be removed in a future version.\n",
      "Instructions for updating:\n",
      "To construct input pipelines, use the `tf.data` module.\n",
      "WARNING:tensorflow:From <ipython-input-73-f7cbcdf1c53c>:4: TextLineReader.__init__ (from tensorflow.python.ops.io_ops) is deprecated and will be removed in a future version.\n",
      "Instructions for updating:\n",
      "Queue-based input pipelines have been replaced by `tf.data`. Use `tf.data.TextLineDataset`.\n"
     ]
    },
    {
     "data": {
      "text/plain": [
       "[<tf.Tensor 'DecodeCSV:0' shape=() dtype=float32>,\n",
       " <tf.Tensor 'DecodeCSV:1' shape=() dtype=float32>,\n",
       " <tf.Tensor 'DecodeCSV:2' shape=() dtype=float32>,\n",
       " <tf.Tensor 'DecodeCSV:3' shape=() dtype=float32>]"
      ]
     },
     "execution_count": 73,
     "metadata": {},
     "output_type": "execute_result"
    }
   ],
   "source": [
    "filename_queue = tf.train.string_input_producer(\n",
    "    ['data-01-test-score.csv'], shuffle=False, name='filename_queue')\n",
    "\n",
    "reader = tf.TextLineReader()\n",
    "key, value = reader.read(filename_queue)\n",
    "\n",
    "# Default values, in case of empty columns. Also specifies the type of the\n",
    "# decoded result.\n",
    "record_defaults = [[0.], [0.], [0.], [0.]]\n",
    "xy = tf.decode_csv(value, record_defaults=record_defaults)\n",
    "xy"
   ]
  },
  {
   "cell_type": "code",
   "execution_count": 75,
   "metadata": {},
   "outputs": [
    {
     "name": "stdout",
     "output_type": "stream",
     "text": [
      "WARNING:tensorflow:From <ipython-input-75-1ccf3e01320d>:2: batch (from tensorflow.python.training.input) is deprecated and will be removed in a future version.\n",
      "Instructions for updating:\n",
      "Queue-based input pipelines have been replaced by `tf.data`. Use `tf.data.Dataset.batch(batch_size)` (or `padded_batch(...)` if `dynamic_pad=True`).\n"
     ]
    }
   ],
   "source": [
    "train_x_batch, train_y_batch = \\\n",
    "    tf.train.batch([xy[0:-1], xy[-1:]], batch_size=10)"
   ]
  },
  {
   "cell_type": "code",
   "execution_count": 74,
   "metadata": {},
   "outputs": [],
   "source": [
    "X = tf.placeholder(tf.float32, shape=[None, 3])\n",
    "Y = tf.placeholder(tf.float32, shape=[None, 1])\n",
    "\n",
    "W = tf.Variable(tf.random_normal([3, 1]), name='weight')\n",
    "b = tf.Variable(tf.random_normal([1]), name='bias')\n",
    "\n",
    "# Hypothesis\n",
    "hypothesis = tf.matmul(X, W) + b\n",
    "\n",
    "# Simplified cost/loss function\n",
    "cost = tf.reduce_mean(tf.square(hypothesis - Y))\n",
    "\n",
    "# Minimize\n",
    "optimizer = tf.train.GradientDescentOptimizer(learning_rate=1e-5)\n",
    "train = optimizer.minimize(cost)"
   ]
  },
  {
   "cell_type": "code",
   "execution_count": null,
   "metadata": {},
   "outputs": [
    {
     "name": "stdout",
     "output_type": "stream",
     "text": [
      "WARNING:tensorflow:From <ipython-input-78-a27afe61e19e>:6: start_queue_runners (from tensorflow.python.training.queue_runner_impl) is deprecated and will be removed in a future version.\n",
      "Instructions for updating:\n",
      "To construct input pipelines, use the `tf.data` module.\n"
     ]
    }
   ],
   "source": [
    "with tf.Session() as sess:\n",
    "    sess.run(tf.global_variables_initializer())\n",
    "    \n",
    "    coord =tf.train.Coordinator()\n",
    "    \n",
    "    threads=tf.train.start_queue_runners(sess = sess, coord=coord)\n",
    "    for step in range(2001):\n",
    "        x_batch, y_batch=sess.run([train_x_batch, train_y_batch])\n",
    "        sess.run(train, feed_dict={X:x_batch, y:y_batch})\n",
    "        \n",
    "    coord.request_stop()\n",
    "    coord.join(threads)\n",
    "    \n",
    "    # Ask my score\n",
    "    print(\"Your score will be \",\n",
    "      sess.run(hypothesis, feed_dict={X: [[100, 70, 101]]}))\n",
    "\n",
    "    print(\"Other scores will be \",\n",
    "      sess.run(hypothesis, feed_dict={X: [[60, 70, 110], [90, 100, 80]]}))\n",
    "\n"
   ]
  },
  {
   "cell_type": "code",
   "execution_count": null,
   "metadata": {},
   "outputs": [],
   "source": [
    "# Ask my score\n",
    "print(\"Your score will be \",\n",
    "      sess.run(hypothesis, feed_dict={X: [[100, 70, 101]]}))\n",
    "\n",
    "print(\"Other scores will be \",\n",
    "      sess.run(hypothesis, feed_dict={X: [[60, 70, 110], [90, 100, 80]]}))\n",
    "\n",
    "'''"
   ]
  },
  {
   "cell_type": "code",
   "execution_count": null,
   "metadata": {},
   "outputs": [],
   "source": []
  },
  {
   "cell_type": "code",
   "execution_count": null,
   "metadata": {},
   "outputs": [],
   "source": []
  },
  {
   "cell_type": "code",
   "execution_count": null,
   "metadata": {},
   "outputs": [],
   "source": []
  },
  {
   "cell_type": "code",
   "execution_count": null,
   "metadata": {},
   "outputs": [],
   "source": []
  },
  {
   "cell_type": "code",
   "execution_count": null,
   "metadata": {},
   "outputs": [],
   "source": []
  },
  {
   "cell_type": "code",
   "execution_count": null,
   "metadata": {},
   "outputs": [],
   "source": []
  },
  {
   "cell_type": "code",
   "execution_count": null,
   "metadata": {},
   "outputs": [],
   "source": []
  },
  {
   "cell_type": "code",
   "execution_count": null,
   "metadata": {},
   "outputs": [],
   "source": []
  },
  {
   "cell_type": "code",
   "execution_count": null,
   "metadata": {},
   "outputs": [],
   "source": []
  },
  {
   "cell_type": "code",
   "execution_count": null,
   "metadata": {},
   "outputs": [],
   "source": []
  },
  {
   "cell_type": "code",
   "execution_count": null,
   "metadata": {},
   "outputs": [],
   "source": []
  },
  {
   "cell_type": "code",
   "execution_count": null,
   "metadata": {},
   "outputs": [],
   "source": []
  },
  {
   "cell_type": "code",
   "execution_count": null,
   "metadata": {},
   "outputs": [],
   "source": []
  }
 ],
 "metadata": {
  "kernelspec": {
   "display_name": "Python 3",
   "language": "python",
   "name": "python3"
  },
  "language_info": {
   "codemirror_mode": {
    "name": "ipython",
    "version": 3
   },
   "file_extension": ".py",
   "mimetype": "text/x-python",
   "name": "python",
   "nbconvert_exporter": "python",
   "pygments_lexer": "ipython3",
   "version": "3.7.6"
  }
 },
 "nbformat": 4,
 "nbformat_minor": 4
}
